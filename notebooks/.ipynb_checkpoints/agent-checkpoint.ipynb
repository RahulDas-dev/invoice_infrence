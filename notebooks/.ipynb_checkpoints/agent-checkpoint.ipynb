{
 "cells": [
  {
   "cell_type": "code",
   "execution_count": 1,
   "id": "f63cec3f-e00b-4196-a5cb-57338faa2ea0",
   "metadata": {},
   "outputs": [],
   "source": [
    "import logging\n",
    "import sys\n",
    "import os\n",
    "\n",
    "sys.path.append(os.path.abspath(os.path.join(os.getcwd(), \"..\", \"src\")))\n",
    "\n",
    "import nest_asyncio\n",
    "from dotenv import load_dotenv\n",
    "\n",
    "from configs import app_config\n",
    "from service.pdf2img import Pdf2ImgService, Pdf2ImgConfig\n",
    "from service.invoice.service import InvoiceService, InvoiceSeviceConfig"
   ]
  },
  {
   "cell_type": "code",
   "execution_count": 2,
   "id": "a3be7e9a-0242-4060-930b-7f17a2df6e8a",
   "metadata": {},
   "outputs": [],
   "source": [
    "load_dotenv()\n",
    "\n",
    "logging.basicConfig(\n",
    "    level=logging.INFO,\n",
    "    format=\"%(asctime)s - %(name)s - %(levelname)s - %(message)s\",\n",
    "    handlers=[logging.StreamHandler()],\n",
    ")\n",
    "nest_asyncio.apply()"
   ]
  },
  {
   "cell_type": "code",
   "execution_count": 3,
   "id": "96de1a7a-39d6-4514-9fc3-bc4d4c2ded5f",
   "metadata": {},
   "outputs": [
    {
     "name": "stdout",
     "output_type": "stream",
     "text": [
      "C:/Users/rdas6/OneDrive/Desktop/codespace/vyturr/poppler-24.08.0/Library/bin\n",
      "C:/Users/rdas6/OneDrive/Desktop/codespace/vyturr/temp/pdf2img\n"
     ]
    },
    {
     "name": "stderr",
     "output_type": "stream",
     "text": [
      "2025-03-23 19:52:53,039 - service.pdf2img - INFO - Processing Images of shape 1653, 2339\n",
      "2025-03-23 19:52:53,116 - service.pdf2img - INFO - Resized Images to shape (791, 1120)\n",
      "2025-03-23 19:52:53,177 - service.pdf2img - INFO - Processing Images of shape 1653, 2339\n",
      "2025-03-23 19:52:53,244 - service.pdf2img - INFO - Resized Images to shape (791, 1120)\n",
      "2025-03-23 19:52:53,275 - service.pdf2img - INFO - Processing Images of shape 1653, 2339\n",
      "2025-03-23 19:52:53,332 - service.pdf2img - INFO - Resized Images to shape (791, 1120)\n",
      "2025-03-23 19:52:53,363 - service.pdf2img - INFO - Processing Images of shape 1653, 2339\n",
      "2025-03-23 19:52:53,423 - service.pdf2img - INFO - Resized Images to shape (791, 1120)\n",
      "2025-03-23 19:52:53,467 - service.pdf2img - INFO - Processing Images of shape 1653, 2339\n",
      "2025-03-23 19:52:53,524 - service.pdf2img - INFO - Resized Images to shape (791, 1120)\n",
      "2025-03-23 19:52:53,543 - service.pdf2img - INFO - Processing Images of shape 1653, 2339\n",
      "2025-03-23 19:52:53,618 - service.pdf2img - INFO - Resized Images to shape (791, 1120)\n",
      "2025-03-23 19:52:53,650 - service.pdf2img - INFO - Processing Images of shape 1653, 2339\n",
      "2025-03-23 19:52:53,709 - service.pdf2img - INFO - Resized Images to shape (791, 1120)\n",
      "2025-03-23 19:52:53,739 - service.pdf2img - INFO - Processing Images of shape 1653, 2339\n",
      "2025-03-23 19:52:53,790 - service.pdf2img - INFO - Resized Images to shape (791, 1120)\n",
      "2025-03-23 19:52:53,794 - service.pdf2img - INFO - Processing Images of shape 1654, 2339\n",
      "2025-03-23 19:52:53,856 - service.pdf2img - INFO - Resized Images to shape (791, 1120)\n",
      "2025-03-23 19:52:53,894 - service.pdf2img - INFO - Processing Images of shape 1654, 2339\n",
      "2025-03-23 19:52:53,943 - service.pdf2img - INFO - Resized Images to shape (791, 1120)\n",
      "2025-03-23 19:52:53,984 - service.pdf2img - INFO - Processing Images of shape 1654, 2339\n",
      "2025-03-23 19:52:54,025 - service.pdf2img - INFO - Resized Images to shape (791, 1120)\n",
      "2025-03-23 19:52:54,042 - service.pdf2img - INFO - Processing Images of shape 1654, 2339\n",
      "2025-03-23 19:52:54,122 - service.pdf2img - INFO - Resized Images to shape (791, 1120)\n",
      "2025-03-23 19:52:54,169 - service.pdf2img - INFO - Processing Images of shape 1654, 2339\n",
      "2025-03-23 19:52:54,222 - service.pdf2img - INFO - Resized Images to shape (791, 1120)\n",
      "2025-03-23 19:52:54,258 - service.pdf2img - INFO - Processing Images of shape 1654, 2339\n",
      "2025-03-23 19:52:54,326 - service.pdf2img - INFO - Resized Images to shape (791, 1120)\n",
      "2025-03-23 19:52:54,372 - service.pdf2img - INFO - Processing Images of shape 1654, 2339\n",
      "2025-03-23 19:52:54,430 - service.pdf2img - INFO - Resized Images to shape (791, 1120)\n",
      "2025-03-23 19:52:54,472 - service.pdf2img - INFO - Processing Images of shape 1654, 2339\n",
      "2025-03-23 19:52:54,511 - service.pdf2img - INFO - Resized Images to shape (791, 1120)\n",
      "2025-03-23 19:52:54,543 - service.pdf2img - INFO - Processing Images of shape 1654, 2339\n",
      "2025-03-23 19:52:54,576 - service.pdf2img - INFO - Resized Images to shape (791, 1120)\n",
      "2025-03-23 19:52:54,625 - service.pdf2img - INFO - Processing Images of shape 1654, 2339\n",
      "2025-03-23 19:52:54,691 - service.pdf2img - INFO - Resized Images to shape (791, 1120)\n",
      "2025-03-23 19:52:54,737 - service.pdf2img - INFO - Processing Images of shape 1654, 2339\n",
      "2025-03-23 19:52:54,805 - service.pdf2img - INFO - Resized Images to shape (791, 1120)\n",
      "2025-03-23 19:52:54,859 - service.pdf2img - INFO - Processing Images of shape 1654, 2339\n",
      "2025-03-23 19:52:54,908 - service.pdf2img - INFO - Resized Images to shape (791, 1120)\n",
      "2025-03-23 19:52:54,948 - service.pdf2img - INFO - Processing Images of shape 1653, 2339\n",
      "2025-03-23 19:52:55,014 - service.pdf2img - INFO - Resized Images to shape (791, 1120)\n",
      "2025-03-23 19:52:55,038 - service.pdf2img - INFO - Processing Images of shape 1653, 2339\n",
      "2025-03-23 19:52:55,094 - service.pdf2img - INFO - Resized Images to shape (791, 1120)\n",
      "2025-03-23 19:52:55,127 - service.pdf2img - INFO - Processing Images of shape 1653, 2339\n",
      "2025-03-23 19:52:55,176 - service.pdf2img - INFO - Resized Images to shape (791, 1120)\n",
      "2025-03-23 19:52:55,204 - service.pdf2img - INFO - Processing Images of shape 1653, 2339\n",
      "2025-03-23 19:52:55,254 - service.pdf2img - INFO - Resized Images to shape (791, 1120)\n",
      "2025-03-23 19:52:55,273 - service.pdf2img - INFO - Processing Images of shape 1653, 2339\n",
      "2025-03-23 19:52:55,343 - service.pdf2img - INFO - Resized Images to shape (791, 1120)\n",
      "2025-03-23 19:52:55,371 - service.pdf2img - INFO - Processing Images of shape 1653, 2339\n",
      "2025-03-23 19:52:55,423 - service.pdf2img - INFO - Resized Images to shape (791, 1120)\n",
      "2025-03-23 19:52:55,467 - service.pdf2img - INFO - Processing Images of shape 1653, 2339\n",
      "2025-03-23 19:52:55,530 - service.pdf2img - INFO - Resized Images to shape (791, 1120)\n",
      "2025-03-23 19:52:55,554 - service.pdf2img - INFO - Processing Images of shape 1653, 2339\n",
      "2025-03-23 19:52:55,622 - service.pdf2img - INFO - Resized Images to shape (791, 1120)\n",
      "2025-03-23 19:52:55,654 - service.pdf2img - INFO - Processing Images of shape 1653, 2339\n",
      "2025-03-23 19:52:55,714 - service.pdf2img - INFO - Resized Images to shape (791, 1120)\n",
      "2025-03-23 19:52:55,737 - service.pdf2img - INFO - Processing Images of shape 1653, 2339\n",
      "2025-03-23 19:52:55,808 - service.pdf2img - INFO - Resized Images to shape (791, 1120)\n",
      "2025-03-23 19:52:55,838 - service.pdf2img - INFO - Processing Images of shape 1654, 2339\n",
      "2025-03-23 19:52:55,904 - service.pdf2img - INFO - Resized Images to shape (791, 1120)\n",
      "2025-03-23 19:52:55,954 - service.pdf2img - INFO - Processing Images of shape 1654, 2339\n",
      "2025-03-23 19:52:56,012 - service.pdf2img - INFO - Resized Images to shape (791, 1120)\n",
      "2025-03-23 19:52:56,054 - service.pdf2img - INFO - Processing Images of shape 1654, 2339\n",
      "2025-03-23 19:52:56,103 - service.pdf2img - INFO - Resized Images to shape (791, 1120)\n",
      "2025-03-23 19:52:56,137 - service.pdf2img - INFO - Processing Images of shape 1654, 2339\n",
      "2025-03-23 19:52:56,179 - service.pdf2img - INFO - Resized Images to shape (791, 1120)\n",
      "2025-03-23 19:52:56,203 - service.pdf2img - INFO - Processing Images of shape 1654, 2339\n",
      "2025-03-23 19:52:56,278 - service.pdf2img - INFO - Resized Images to shape (791, 1120)\n"
     ]
    },
    {
     "name": "stdout",
     "output_type": "stream",
     "text": [
      "C:\\Users\\rdas6\\OneDrive\\Desktop\\codespace\\vyturr\\temp\\pdf2img\\Invoice-Copy-20_1\n"
     ]
    }
   ],
   "source": [
    "POPPLER_PATH_='C:/Users/rdas6/OneDrive/Desktop/codespace/vyturr/poppler-24.08.0/Library/bin'\n",
    "OUTPUT_PATH_='C:/Users/rdas6/OneDrive/Desktop/codespace/vyturr/temp/pdf2img'\n",
    "\n",
    "print(POPPLER_PATH_)\n",
    "print(OUTPUT_PATH_)\n",
    "\n",
    "config1 = Pdf2ImgConfig(poppler_path=POPPLER_PATH_, output_path=OUTPUT_PATH_)\n",
    "\n",
    "pdf_path = \"C:/Users/rdas6/OneDrive/Desktop/codespace/vyturr/dataset/Invoice-Copy-20.pdf\"\n",
    "\n",
    "Pdf2ImgService.set_config(config1)\n",
    "\n",
    "image_dir = Pdf2ImgService.convert(pdf_path)\n",
    "print(image_dir)"
   ]
  },
  {
   "cell_type": "code",
   "execution_count": null,
   "id": "0b3cda55-39a2-478c-9436-0be96389bc0b",
   "metadata": {},
   "outputs": [
    {
     "name": "stderr",
     "output_type": "stream",
     "text": [
      "2025-03-23 19:54:42,885 - service.invoice.service - INFO - Agent1 Processing Page : Page_01.png\n",
      "2025-03-23 19:54:55,748 - service.invoice.service - INFO - Agent1 Processing Page : Page_02.png\n",
      "2025-03-23 19:55:03,021 - service.invoice.service - INFO - Agent1 Processing Page : Page_03.png\n",
      "2025-03-23 19:55:10,731 - service.invoice.service - INFO - Agent1 Processing Page : Page_04.png\n",
      "2025-03-23 19:55:17,660 - service.invoice.service - INFO - Agent1 Processing Page : Page_05.png\n",
      "2025-03-23 19:55:25,148 - service.invoice.service - INFO - Agent1 Processing Page : Page_06.png\n",
      "2025-03-23 19:55:35,374 - service.invoice.service - INFO - Agent1 Processing Page : Page_07.png\n",
      "2025-03-23 19:55:43,259 - service.invoice.service - INFO - Agent1 Processing Page : Page_08.png\n",
      "2025-03-23 19:55:44,185 - service.invoice.service - INFO - Agent1 Processing Page : Page_09.png\n",
      "2025-03-23 19:55:50,032 - service.invoice.service - INFO - Agent1 Processing Page : Page_10.png\n",
      "2025-03-23 19:55:56,489 - service.invoice.service - INFO - Agent1 Processing Page : Page_11.png\n",
      "2025-03-23 19:55:57,803 - service.invoice.service - INFO - Agent1 Processing Page : Page_12.png\n",
      "2025-03-23 19:55:59,078 - service.invoice.service - INFO - Agent1 Processing Page : Page_13.png\n",
      "2025-03-23 19:56:04,872 - service.invoice.service - INFO - Agent1 Processing Page : Page_14.png\n",
      "2025-03-23 19:56:07,947 - service.invoice.service - INFO - Agent1 Processing Page : Page_15.png\n",
      "2025-03-23 19:56:14,719 - service.invoice.service - INFO - Agent1 Processing Page : Page_16.png\n",
      "2025-03-23 19:56:21,148 - service.invoice.service - INFO - Agent1 Processing Page : Page_17.png\n",
      "2025-03-23 19:56:26,781 - service.invoice.service - INFO - Agent1 Processing Page : Page_18.png\n",
      "2025-03-23 19:56:33,438 - service.invoice.service - INFO - Agent1 Processing Page : Page_19.png\n",
      "2025-03-23 19:56:39,579 - service.invoice.service - INFO - Agent1 Processing Page : Page_20.png\n",
      "2025-03-23 19:56:45,215 - service.invoice.service - INFO - Agent1 Processing Page : Page_21.png\n",
      "2025-03-23 19:56:51,972 - service.invoice.service - INFO - Agent1 Processing Page : Page_22.png\n",
      "2025-03-23 19:57:03,744 - service.invoice.service - INFO - Agent1 Processing Page : Page_23.png\n",
      "2025-03-23 19:57:10,492 - service.invoice.service - INFO - Agent1 Processing Page : Page_24.png\n",
      "2025-03-23 19:57:17,454 - service.invoice.service - INFO - Agent1 Processing Page : Page_25.png\n",
      "2025-03-23 19:57:27,809 - service.invoice.service - INFO - Agent1 Processing Page : Page_26.png\n",
      "2025-03-23 19:57:37,029 - service.invoice.service - INFO - Agent1 Processing Page : Page_27.png\n",
      "2025-03-23 19:57:43,890 - service.invoice.service - INFO - Agent1 Processing Page : Page_28.png\n",
      "2025-03-23 19:57:51,365 - service.invoice.service - INFO - Agent1 Processing Page : Page_29.png\n",
      "2025-03-23 19:58:01,396 - service.invoice.service - INFO - Agent1 Processing Page : Page_30.png\n",
      "2025-03-23 19:58:08,270 - service.invoice.service - INFO - Agent1 Processing Page : Page_31.png\n",
      "2025-03-23 19:58:22,704 - service.invoice.service - INFO - Agent1 Processing Page : Page_32.png\n",
      "2025-03-23 19:58:36,826 - service.invoice.service - INFO - Agent1 Processing Page : Page_33.png\n",
      "2025-03-23 19:58:51,067 - service.invoice.service - INFO - Agent1 Processing Page : Page_34.png\n"
     ]
    }
   ],
   "source": [
    "image_dir ='C:/Users/rdas6/OneDrive/Desktop/codespace/vyturr/temp/pdf2img/Invoice-Copy-20'\n",
    "\n",
    "InvoiceService.set_config(InvoiceSeviceConfig())\n",
    "json_data, data_str = InvoiceService.run(image_dir)"
   ]
  },
  {
   "cell_type": "code",
   "execution_count": 6,
   "id": "cf07c32c-a072-441f-8b56-e0a080a18516",
   "metadata": {},
   "outputs": [
    {
     "name": "stdout",
     "output_type": "stream",
     "text": [
      "{'details': [{'invoice_number': 'Trans_BL_004', 'invoice_date': '08/04/2021', 'seller_details': {'name': 'Transitech Private Limited', 'gst_no': '33AAFCT5065J1Z7', 'pan_no': 'Not Available', 'address': 'Regd. & Corp. Office: Plot No. 18-20, Ambit Park Road, Ambattur Industrial Estate, Chennai - 600 058. Tamilnadu, India.', 'phone_number': '+91-44-4203 1951', 'email': 'info@transitech.in'}, 'buyer_details': {'name': 'Billionloans Financial Services Pvt Ltd', 'gst_no': 'Not Available', 'pan_no': 'Not Available', 'address': '370, 4th Cross, J P Nagar, III Phase, Bangalore 560 078, India', 'phone_number': 'Not Available', 'email': 'Not Available'}, 'items': [{'slno': 1, 'description': 'UPS SCS (India) Pvt Ltd', 'quantity': '20 FEET', 'price': '27000.00', 'currency': 'INR'}, {'slno': 2, 'description': 'UPS SCS (India) Pvt Ltd', 'quantity': '20 FEET', 'price': '27000.00', 'currency': 'INR'}, {'slno': 3, 'description': 'UPS SCS (India) Pvt Ltd', 'quantity': '20 FEET', 'price': '27000.00', 'currency': 'INR'}, {'slno': 4, 'description': 'UPS SCS (India) Pvt Ltd', 'quantity': '16 Ton', 'price': '19200.00', 'currency': 'INR'}, {'slno': 5, 'description': 'UPS SCS (India) Pvt Ltd', 'quantity': '16 Ton', 'price': '19200.00', 'currency': 'INR'}, {'slno': 6, 'description': 'UPS SCS (India) Pvt Ltd', 'quantity': '16 Ton', 'price': '19200.00', 'currency': 'INR'}, {'slno': 7, 'description': 'UPS SCS (India) Pvt Ltd', 'quantity': '16 Ton', 'price': '19200.00', 'currency': 'INR'}, {'slno': 8, 'description': 'UPS SCS (India) Pvt Ltd', 'quantity': '16 Ton', 'price': '19200.00', 'currency': 'INR'}], 'total_tax': {'CGST': 0.0, 'SGST': 0.0, 'IGST': 0.0}, 'total_charge': 0.0, 'total_discount': 0.0, 'total_amount': 177000.0, 'amount_paid': 0.0, 'amount_due': 0.0, 'page_no': 1}, {'invoice_number': '20212500', 'invoice_date': '3/23/2021 12:00:00 AM', 'seller_details': {'name': 'TRANSITECH PRIVATE LIMITED', 'gst_no': '33AAT5065J1Z7', 'pan_no': 'Not Available', 'address': 'Plot No. 18-20, Ambit Park Road, Ambattur Industrial Estate, Ambattur Industrial Estate, Chennai 600 058', 'phone_number': '+91-7550015666,8939601566', 'email': 'support@freightx.in'}, 'buyer_details': {'name': 'Ms. SHARADAA CERAMICS PRIVATE LIMITED DP', 'gst_no': 'Not Available', 'pan_no': 'Not Available', 'address': '39 4B 5B KAKKALUR INDUSTRIAL ESTATE KAKKALUR THIRUVALLUR-602003', 'phone_number': 'Not Available', 'email': 'Not Available'}, 'items': [{'slno': 1, 'description': 'SB NO 96083 40/24.03.21 CNTR NO. FCIU4299693', 'quantity': 'Not Available', 'price': 'Not Available', 'currency': 'INR'}], 'total_tax': {'CGST': 0.0, 'SGST': 0.0, 'IGST': 0.0}, 'total_charge': 0.0, 'total_discount': 0.0, 'total_amount': 0.0, 'amount_paid': 0.0, 'amount_due': 0.0, 'page_no': 2}, {'invoice_number': '20-21/2500', 'invoice_date': '23-3-2021', 'seller_details': {'name': 'TRANSITECH PRIVATE LIMITED', 'gst_no': '33AAFCT5065J1Z7', 'pan_no': 'Not Available', 'address': 'Plot No. 18-20, Ambit Park Road, Ambattur Industrial Estate, Chennai 600 058', 'phone_number': '7550015666 / 8939601566', 'email': 'support@freightx.in'}, 'buyer_details': {'name': 'UPS SCS (INDIA) PVT LTD', 'gst_no': '33AAACU2488B1ZN', 'pan_no': 'Not Available', 'address': 'No. 3/26, 10th Avenue, Ashok Nagar, Chennai', 'phone_number': 'Not Available', 'email': 'Not Available'}, 'items': [{'slno': 1, 'description': 'Your Freight Driver was Sathish', 'quantity': '1', 'price': '17000.00', 'currency': 'INR'}, {'slno': 2, 'description': 'Total Distance 500 Km', 'quantity': '1', 'price': '10000.00', 'currency': 'INR'}, {'slno': 3, 'description': 'Waiting Minutes 0 mins', 'quantity': '1', 'price': '0.00', 'currency': 'INR'}, {'slno': 4, 'description': 'Total Trip Time 0', 'quantity': '1', 'price': '0.00', 'currency': 'INR'}, {'slno': 5, 'description': 'Distance Fare', 'quantity': '1', 'price': '17000.00', 'currency': 'INR'}, {'slno': 6, 'description': 'Halting Charges', 'quantity': '1', 'price': '10000.00', 'currency': 'INR'}, {'slno': 7, 'description': 'Loading Charges', 'quantity': '1', 'price': '0.00', 'currency': 'INR'}, {'slno': 8, 'description': 'Unloading Charges', 'quantity': '1', 'price': '0.00', 'currency': 'INR'}, {'slno': 9, 'description': 'Extra Delivery Charges', 'quantity': '1', 'price': '0.00', 'currency': 'INR'}, {'slno': 10, 'description': 'Additional Point Charges', 'quantity': '1', 'price': '0.00', 'currency': 'INR'}], 'total_tax': {'CGST': 0.0, 'SGST': 0.0, 'IGST': 0.0}, 'total_charge': 0.0, 'total_discount': 0.0, 'total_amount': 27000.0, 'amount_paid': 27000.0, 'amount_due': 0.0, 'page_no': 3}, {'invoice_number': '20-21/2498', 'invoice_date': '23-3-2021', 'seller_details': {'name': 'TRANSITECH PRIVATE LIMITED', 'gst_no': '33AAFCT5065J1Z7', 'pan_no': 'Not Available', 'address': 'Plot No. 18-20, Ambit Park Road, Ambattur Industrial Estate, Chennai 600 058', 'phone_number': '7550015666 / 8939601566', 'email': 'support@freightx.in'}, 'buyer_details': {'name': 'UPS SCS (INDIA) PVT LTD', 'gst_no': '33AAACU2488B1ZN', 'pan_no': 'Not Available', 'address': 'UPS SCS (INDIA) PVT LTD, No. 3/26, 10th Avenue, Ashok Nagar, Chennai', 'phone_number': 'Not Available', 'email': 'Not Available'}, 'items': [{'slno': 1, 'description': 'Your Freight Driver was', 'quantity': '1.000', 'price': '17000.00', 'currency': 'INR'}, {'slno': 2, 'description': 'Total Distance', 'quantity': '1.000', 'price': '10000.00', 'currency': 'INR'}, {'slno': 3, 'description': 'Waiting Minutes', 'quantity': '1.000', 'price': '0.00', 'currency': 'INR'}, {'slno': 4, 'description': 'Total Trip Time', 'quantity': '1.000', 'price': '0.00', 'currency': 'INR'}, {'slno': 5, 'description': 'S Manikandan', 'quantity': '1.000', 'price': '0.00', 'currency': 'INR'}, {'slno': 6, 'description': '500 Km', 'quantity': '1.000', 'price': '0.00', 'currency': 'INR'}, {'slno': 7, 'description': '0 mins', 'quantity': '1.000', 'price': '0.00', 'currency': 'INR'}, {'slno': 8, 'description': '0', 'quantity': '1.000', 'price': '0.00', 'currency': 'INR'}, {'slno': 9, 'description': 'Distance Fare', 'quantity': '1.000', 'price': '0.00', 'currency': 'INR'}, {'slno': 10, 'description': 'Halting Charges', 'quantity': '1.000', 'price': '0.00', 'currency': 'INR'}, {'slno': 11, 'description': 'Loading Charges', 'quantity': '1.000', 'price': '0.00', 'currency': 'INR'}, {'slno': 12, 'description': 'Unloading Charges', 'quantity': '1.000', 'price': '0.00', 'currency': 'INR'}, {'slno': 13, 'description': 'Extra Delivery Charges', 'quantity': '1.000', 'price': '0.00', 'currency': 'INR'}, {'slno': 14, 'description': 'Additional Point Charges', 'quantity': '1.000', 'price': '0.00', 'currency': 'INR'}], 'total_tax': {'CGST': 0.0, 'SGST': 0.0, 'IGST': 0.0}, 'total_charge': 0.0, 'total_discount': 0.0, 'total_amount': 27000.0, 'amount_paid': 27000.0, 'amount_due': 0.0, 'page_no': 4}, {'invoice_number': '20212498', 'invoice_date': '3/23/2021', 'seller_details': {'name': 'TRANSITECH PRIVATE LIMITED', 'gst_no': '33AAT5065J1Z7', 'pan_no': 'Not Available', 'address': 'Plot No. 18-20, Ambit Park Road, Ambattur Industrial Estate, Ambattur Industrial Estate, Chennai 600 058', 'phone_number': '+91-7550015666, 8939601566', 'email': 'support@freightx.in'}, 'buyer_details': {'name': 'Ms. SHARADAA CERAMICS PRIVATE LIMITED DP', 'gst_no': 'Not Available', 'pan_no': 'Not Available', 'address': '39 4B 5B KAKKALUR INDUSTRIAL ESTATE KAKKALUR THIRUVALLUR-602003', 'phone_number': 'Not Available', 'email': 'Not Available'}, 'items': [{'slno': 1, 'description': 'Actual Kgs', 'quantity': '1', 'price': 'Rs P', 'currency': 'INR'}, {'slno': 2, 'description': 'Rate', 'quantity': '1', 'price': 'Rs P', 'currency': 'INR'}, {'slno': 3, 'description': 'Charged Kgs', 'quantity': '1', 'price': 'Rs P', 'currency': 'INR'}, {'slno': 4, 'description': 'Hamali', 'quantity': '1', 'price': 'Rs P', 'currency': 'INR'}, {'slno': 5, 'description': 'Door Collection', 'quantity': '1', 'price': 'Rs P', 'currency': 'INR'}, {'slno': 6, 'description': 'Pvt. Marking', 'quantity': '1', 'price': 'Rs P', 'currency': 'INR'}, {'slno': 7, 'description': 'Door Delivery', 'quantity': '1', 'price': 'Rs P', 'currency': 'INR'}, {'slno': 8, 'description': 'Surcharge', 'quantity': '1', 'price': 'Rs P', 'currency': 'INR'}, {'slno': 9, 'description': 'St. Charge', 'quantity': '1', 'price': 'Rs P', 'currency': 'INR'}], 'total_tax': {'CGST': 0.0, 'SGST': 0.0, 'IGST': 0.0}, 'total_charge': 0.0, 'total_discount': 0.0, 'total_amount': 0.0, 'amount_paid': 0.0, 'amount_due': 0.0, 'page_no': 5}, {'invoice_number': '20-21/2499', 'invoice_date': '23-3-2021', 'seller_details': {'name': 'TRANSITECH PRIVATE LIMITED', 'gst_no': '33AAFCT5065J1Z7', 'pan_no': 'NOT_AVAILABLE', 'address': 'Plot No. 18-20, Ambit Park Road, Ambattur Industrial Estate, Chennai 600 058', 'phone_number': '7550015666 / 8939601566', 'email': 'support@freightx.in'}, 'buyer_details': {'name': 'UPS SCS (INDIA) PVT LTD', 'gst_no': '33AAACU2488B1ZN', 'pan_no': 'NOT_AVAILABLE', 'address': 'No. 3/26, 10th Avenue, Ashok Nagar, Chennai', 'phone_number': 'Not Available', 'email': 'Not Available'}, 'items': [{'slno': 1, 'description': 'Your Freight Driver was Sundar', 'quantity': '1.000', 'price': '17000.00', 'currency': 'INR'}, {'slno': 2, 'description': 'Distance Fare', 'quantity': '1.000', 'price': '10000.00', 'currency': 'INR'}, {'slno': 3, 'description': 'Halting Charges', 'quantity': '1.000', 'price': '0.00', 'currency': 'INR'}, {'slno': 4, 'description': 'Loading Charges', 'quantity': '1.000', 'price': '0.00', 'currency': 'INR'}, {'slno': 5, 'description': 'Unloading Charges', 'quantity': '1.000', 'price': '0.00', 'currency': 'INR'}, {'slno': 6, 'description': 'Extra Delivery Charges', 'quantity': '1.000', 'price': '0.00', 'currency': 'INR'}, {'slno': 7, 'description': 'Additional Point Charges', 'quantity': '1.000', 'price': '0.00', 'currency': 'INR'}], 'total_tax': {'CGST': 0.0, 'SGST': 0.0, 'IGST': 0.0}, 'total_charge': 0.0, 'total_discount': 0.0, 'total_amount': 27000.0, 'amount_paid': 0.0, 'amount_due': 27000.0, 'page_no': 6}, {'invoice_number': '20212499', 'invoice_date': '3/23/2021 12:00:00 AM', 'seller_details': {'name': 'TRANSITECH PRIVATE LIMITED', 'gst_no': '33AAFC75065J1Z7', 'pan_no': 'Not Available', 'address': 'Plot No. 18-20, Ambit Park Road, Ambattur Industrial Estate, Ambattur Industrial Estate, Chennai 600 058', 'phone_number': '+91-7550015666,8939601566', 'email': 'support@freightx.in'}, 'buyer_details': {'name': 'Ms. SHARADAA CERAMICS PRIVATE LIMITED DP', 'gst_no': 'Not Available', 'pan_no': 'Not Available', 'address': '39 4B 5B KAKKALUR INDUSTRIAL ESTATE KAKKALUR THIRUVALLUR-602003', 'phone_number': 'Not Available', 'email': 'Not Available'}, 'items': [{'slno': 1, 'description': 'SB NO. 9608540 /24.03.21 CNTR NO. FCIU3397714', 'quantity': '1', 'price': 'Not Available', 'currency': 'INR'}], 'total_tax': {'CGST': 0.0, 'SGST': 0.0, 'IGST': 0.0}, 'total_charge': 0.0, 'total_discount': 0.0, 'total_amount': 0.0, 'amount_paid': 0.0, 'amount_due': 0.0, 'page_no': 7}, {'invoice_number': 'Not Available', 'invoice_date': 'Not Available', 'seller_details': {'name': 'Not Available', 'gst_no': 'Not Available', 'pan_no': 'Not Available', 'address': 'Not Available', 'phone_number': 'Not Available', 'email': 'Not Available'}, 'buyer_details': {'name': 'Not Available', 'gst_no': 'Not Available', 'pan_no': 'Not Available', 'address': 'Not Available', 'phone_number': 'Not Available', 'email': 'Not Available'}, 'items': [], 'total_tax': {'CGST': 0.0, 'SGST': 0.0, 'IGST': 0.0}, 'total_charge': 0.0, 'total_discount': 0.0, 'total_amount': 0.0, 'amount_paid': 0.0, 'amount_due': 0.0, 'page_no': 8}, {'invoice_number': '5512 4954 4247', 'invoice_date': '16/03/2021', 'seller_details': {'name': 'SALZER EXPORTS LIMITED', 'gst_no': '33AADCS0675B1ZT', 'pan_no': 'Not Available', 'address': 'TAMIL NADU-641047', 'phone_number': 'Not Available', 'email': 'Not Available'}, 'buyer_details': {'name': 'TRANSITECH PRIVATE LIMITED', 'gst_no': '33AAFCT5065.H27', 'pan_no': 'Not Available', 'address': 'Not Available', 'phone_number': 'Not Available', 'email': 'Not Available'}, 'items': [{'slno': 1, 'description': 'CONDUIT TUBING(+1)', 'quantity': '1', 'price': '58968', 'currency': 'INR'}], 'total_tax': {'CGST': 0.0, 'SGST': 0.0, 'IGST': 0.0}, 'total_charge': 0.0, 'total_discount': 0.0, 'total_amount': 58968.0, 'amount_paid': 0.0, 'amount_due': 0.0, 'page_no': 9}, {'invoice_number': 'NO_INVOICE', 'invoice_date': 'Not Available', 'seller_details': {'name': 'Not Available', 'gst_no': 'Not Available', 'pan_no': 'Not Available', 'address': 'Not Available', 'phone_number': 'Not Available', 'email': 'Not Available'}, 'buyer_details': {'name': 'Not Available', 'gst_no': 'Not Available', 'pan_no': 'Not Available', 'address': 'Not Available', 'phone_number': 'Not Available', 'email': 'Not Available'}, 'items': [], 'total_tax': {'CGST': 0.0, 'SGST': 0.0, 'IGST': 0.0}, 'total_charge': 0.0, 'total_discount': 0.0, 'total_amount': 0.0, 'amount_paid': 0.0, 'amount_due': 0.0, 'page_no': 10}, {'invoice_number': 'NO_INVOICE', 'invoice_date': 'Not Available', 'seller_details': {'name': 'Not Available', 'gst_no': 'Not Available', 'pan_no': 'Not Available', 'address': 'Not Available', 'phone_number': 'Not Available', 'email': 'Not Available'}, 'buyer_details': {'name': 'Not Available', 'gst_no': 'Not Available', 'pan_no': 'Not Available', 'address': 'Not Available', 'phone_number': 'Not Available', 'email': 'Not Available'}, 'items': [], 'total_tax': {'CGST': 0.0, 'SGST': 0.0, 'IGST': 0.0}, 'total_charge': 0.0, 'total_discount': 0.0, 'total_amount': 0.0, 'amount_paid': 0.0, 'amount_due': 0.0, 'page_no': 11}, {'invoice_number': 'NO_INVOICE', 'invoice_date': 'Not Available', 'seller_details': {'name': 'Not Available', 'gst_no': 'Not Available', 'pan_no': 'Not Available', 'address': 'Not Available', 'phone_number': 'Not Available', 'email': 'Not Available'}, 'buyer_details': {'name': 'Not Available', 'gst_no': 'Not Available', 'pan_no': 'Not Available', 'address': 'Not Available', 'phone_number': 'Not Available', 'email': 'Not Available'}, 'items': [], 'total_tax': {'CGST': 0.0, 'SGST': 0.0, 'IGST': 0.0}, 'total_charge': 0.0, 'total_discount': 0.0, 'total_amount': 0.0, 'amount_paid': 0.0, 'amount_due': 0.0, 'page_no': 12}, {'invoice_number': '0016084', 'invoice_date': '25/03/2021', 'seller_details': {'name': 'SRI JAYARAM COMPUTER WEIGH BRIDGE', 'gst_no': 'Not Available', 'pan_no': 'Not Available', 'address': 'No. 27 to 30-A, M.T.H. Road, Kakkalur, Thiruvallur - 602 003.', 'phone_number': '2766 6529', 'email': 'Not Available'}, 'buyer_details': {'name': 'Not Available', 'gst_no': 'Not Available', 'pan_no': 'Not Available', 'address': 'Not Available', 'phone_number': 'Not Available', 'email': 'Not Available'}, 'items': [{'slno': 1, 'description': 'CONTAINER', 'quantity': '42', 'price': '120.00', 'currency': 'INR'}], 'total_tax': {'CGST': 0.0, 'SGST': 0.0, 'IGST': 0.0}, 'total_charge': 0.0, 'total_discount': 0.0, 'total_amount': 39470.0, 'amount_paid': 0.0, 'amount_due': 0.0, 'page_no': 13}, {'invoice_number': 'NO_INVOICE', 'invoice_date': 'Not Available', 'seller_details': {'name': 'Not Available', 'gst_no': 'Not Available', 'pan_no': 'Not Available', 'address': 'Not Available', 'phone_number': 'Not Available', 'email': 'Not Available'}, 'buyer_details': {'name': 'Not Available', 'gst_no': 'Not Available', 'pan_no': 'Not Available', 'address': 'Not Available', 'phone_number': 'Not Available', 'email': 'Not Available'}, 'items': [], 'total_tax': {'CGST': 0.0, 'SGST': 0.0, 'IGST': 0.0}, 'total_charge': 0.0, 'total_discount': 0.0, 'total_amount': 0.0, 'amount_paid': 0.0, 'amount_due': 0.0, 'page_no': 14}, {'invoice_number': 'NOT_AVAILABLE', 'invoice_date': '27/03/2021', 'seller_details': {'name': 'SHARADAA CERAMICS PRIVATE LIMITED', 'gst_no': 'Not Available', 'pan_no': 'Not Available', 'address': 'D-39, 4B KAKALOOR INDUSTRIAL ESTATE UNIT A BANKWELL BUSINESS PARK BANKWELL ROAD KAKALOOR THIRUVELLORE DISTRICT, TAMIL NADU', 'phone_number': 'Not Available', 'email': 'Not Available'}, 'buyer_details': {'name': 'SCOTT BROTHERS ENTERPRISES LTD', 'gst_no': 'Not Available', 'pan_no': 'Not Available', 'address': 'BANKWELL ROAD WINSBRIDGE HUDDERSFIELD, HD3 4LU UNITED KINGDOM', 'phone_number': 'Not Available', 'email': 'Not Available'}, 'items': [{'slno': 1, 'description': 'Not Available', 'quantity': '60', 'price': '7898.00', 'currency': 'INR'}], 'total_tax': {'CGST': 0.0, 'SGST': 0.0, 'IGST': 0.0}, 'total_charge': 0.0, 'total_discount': 0.0, 'total_amount': 7898.0, 'amount_paid': 0.0, 'amount_due': 0.0, 'page_no': 15}, {'invoice_number': '2596932.00', 'invoice_date': '27/03/2021', 'seller_details': {'name': 'SCOTT BROTHERS ENTERPRISES LTD', 'gst_no': 'Not Available', 'pan_no': 'Not Available', 'address': 'UNIT A BANKWELL BUSINESS PARK, BANKWELL ROAD, MELNSBRIDGE MIDDERSFIELD, HD3 4LU UNITED KINGDOM', 'phone_number': 'Not Available', 'email': 'Not Available'}, 'buyer_details': {'name': 'SHARJAH CERAMICS PRIVATE LIMITED', 'gst_no': 'Not Available', 'pan_no': 'Not Available', 'address': '0-39, 4B KAKALDOR INDUSTRIAL ESTATE', 'phone_number': 'Not Available', 'email': 'Not Available'}, 'items': [{'slno': 1, 'description': 'LOOSE PKTS', 'quantity': '60.000', 'price': '78000.000', 'currency': 'INR'}], 'total_tax': {'CGST': 0.0, 'SGST': 0.0, 'IGST': 2596932.0}, 'total_charge': 0.0, 'total_discount': 0.0, 'total_amount': 2596932.0, 'amount_paid': 0.0, 'amount_due': 0.0, 'page_no': 16}, {'invoice_number': 'NOT_AVAILABLE', 'invoice_date': '15/03/2021', 'seller_details': {'name': 'SHARADAA CERAMICS PRIVATE LIMITED', 'gst_no': 'Not Available', 'pan_no': 'Not Available', 'address': 'Not Available', 'phone_number': 'Not Available', 'email': 'Not Available'}, 'buyer_details': {'name': 'SCOTT BROTHERS ENTERPRISES LTD', 'gst_no': 'Not Available', 'pan_no': 'Not Available', 'address': 'Not Available', 'phone_number': 'Not Available', 'email': 'Not Available'}, 'items': [{'slno': 1, 'description': 'RITC CD', 'quantity': '1.00', 'price': '71.600', 'currency': 'INR'}], 'total_tax': {'CGST': 0.0, 'SGST': 0.0, 'IGST': 71.6}, 'total_charge': 0.0, 'total_discount': 0.0, 'total_amount': 71.6, 'amount_paid': 0.0, 'amount_due': 0.0, 'page_no': 17}, {'invoice_number': '9608540', 'invoice_date': '27/03/2021', 'seller_details': {'name': 'AALCMIORSECHBBI TRANSOREIN LOGISTICS SERVICES PVT LTD', 'gst_no': 'Not Available', 'pan_no': 'Not Available', 'address': 'CHENNAI - 600001', 'phone_number': 'Not Available', 'email': 'Not Available'}, 'buyer_details': {'name': 'Not Available', 'gst_no': 'Not Available', 'pan_no': 'Not Available', 'address': 'Not Available', 'phone_number': 'Not Available', 'email': 'Not Available'}, 'items': [{'slno': 1, 'description': 'RITC', 'quantity': '1.00', 'price': '78000.00', 'currency': 'INR'}, {'slno': 2, 'description': 'SINGLE WINDOW INFO TYPE DETAILS', 'quantity': '1.00', 'price': '12985.00', 'currency': 'INR'}], 'total_tax': {'CGST': 0.0, 'SGST': 0.0, 'IGST': 0.0}, 'total_charge': 0.0, 'total_discount': 0.0, 'total_amount': 33760.0, 'amount_paid': 0.0, 'amount_due': 0.0, 'page_no': 18}, {'invoice_number': 'NO_INVOICE', 'invoice_date': 'Not Available', 'seller_details': {'name': 'Not Available', 'gst_no': 'Not Available', 'pan_no': 'Not Available', 'address': 'Not Available', 'phone_number': 'Not Available', 'email': 'Not Available'}, 'buyer_details': {'name': 'Not Available', 'gst_no': 'Not Available', 'pan_no': 'Not Available', 'address': 'Not Available', 'phone_number': 'Not Available', 'email': 'Not Available'}, 'items': [], 'total_tax': {'CGST': 0.0, 'SGST': 0.0, 'IGST': 0.0}, 'total_charge': 0.0, 'total_discount': 0.0, 'total_amount': 0.0, 'amount_paid': 0.0, 'amount_due': 0.0, 'page_no': 19}, {'invoice_number': 'NO_INVOICE', 'invoice_date': 'Not Available', 'seller_details': {'name': 'Not Available', 'gst_no': 'Not Available', 'pan_no': 'Not Available', 'address': 'Not Available', 'phone_number': 'Not Available', 'email': 'Not Available'}, 'buyer_details': {'name': 'Not Available', 'gst_no': 'Not Available', 'pan_no': 'Not Available', 'address': 'Not Available', 'phone_number': 'Not Available', 'email': 'Not Available'}, 'items': [], 'total_tax': {'CGST': 0.0, 'SGST': 0.0, 'IGST': 0.0}, 'total_charge': 0.0, 'total_discount': 0.0, 'total_amount': 0.0, 'amount_paid': 0.0, 'amount_due': 0.0, 'page_no': 20}, {'invoice_number': '20-21/2389', 'invoice_date': '16-3-2021', 'seller_details': {'name': 'TRANSITECH PRIVATE LIMITED', 'gst_no': '33AAFCT5065J1Z7', 'pan_no': 'Not Available', 'address': 'Plot No. 18-20, Ambit Park Road, Ambattur Industrial Estate, Chennai 600 058', 'phone_number': '7550015666 / 8939601566', 'email': 'support@freightx.in'}, 'buyer_details': {'name': 'UPS SCS (INDIA) PVT LTD', 'gst_no': '33AAACU2488B1ZN', 'pan_no': 'Not Available', 'address': 'No. 3/26, 10th Avenue, Ashok Nagar, Chennai', 'phone_number': 'Not Available', 'email': 'Not Available'}, 'items': [{'slno': 1, 'description': 'Your Freight Driver was', 'quantity': '1.000', 'price': '19200.00', 'currency': 'INR'}], 'total_tax': {'CGST': 0.0, 'SGST': 0.0, 'IGST': 0.0}, 'total_charge': 0.0, 'total_discount': 0.0, 'total_amount': 19200.0, 'amount_paid': 19200.0, 'amount_due': 0.0, 'page_no': 21}, {'invoice_number': 'NOT_AVAILABLE', 'invoice_date': '3/16/2021 12:00:00 AM', 'seller_details': {'name': 'TRANSITECH PRIVATE LIMITED', 'gst_no': '33AAFC75065J1Z7', 'pan_no': 'Not Available', 'address': 'Plot No. 18-20, Ambit Park Road, Ambattur Industrial Estate, Ambattur Industrial Estate, Chennai 600 058', 'phone_number': '+91-7550015666,8939601566', 'email': 'support@freightx.in'}, 'buyer_details': {'name': 'Salzer Exports Ltd', 'gst_no': 'Not Available', 'pan_no': 'Not Available', 'address': '9/175A, Railway Feeder Road, Perianaickenpalayam, Coimbatore 641020', 'phone_number': 'Not Available', 'email': 'Not Available'}, 'items': [{'slno': 1, 'description': 'Actual Kgs', 'quantity': '1', 'price': 'Not Available', 'currency': 'INR'}, {'slno': 2, 'description': 'Paid', 'quantity': '1', 'price': 'Not Available', 'currency': 'INR'}, {'slno': 3, 'description': 'To Pay', 'quantity': '1', 'price': 'Not Available', 'currency': 'INR'}, {'slno': 4, 'description': 'Rate', 'quantity': '1', 'price': 'Not Available', 'currency': 'INR'}, {'slno': 5, 'description': 'Rs', 'quantity': '1', 'price': 'Not Available', 'currency': 'INR'}, {'slno': 6, 'description': 'P', 'quantity': '1', 'price': 'Not Available', 'currency': 'INR'}, {'slno': 7, 'description': 'Charged Kgs', 'quantity': '1', 'price': 'Not Available', 'currency': 'INR'}, {'slno': 8, 'description': 'Hamali', 'quantity': '1', 'price': 'Not Available', 'currency': 'INR'}, {'slno': 9, 'description': 'TO BE BILLED', 'quantity': '1', 'price': 'Not Available', 'currency': 'INR'}, {'slno': 10, 'description': 'Door Collection', 'quantity': '1', 'price': 'Not Available', 'currency': 'INR'}, {'slno': 11, 'description': 'Pvt.Marking', 'quantity': '1', 'price': 'Not Available', 'currency': 'INR'}, {'slno': 12, 'description': 'Door Delivery', 'quantity': '1', 'price': 'Not Available', 'currency': 'INR'}, {'slno': 13, 'description': 'Surcharge', 'quantity': '1', 'price': 'Not Available', 'currency': 'INR'}, {'slno': 14, 'description': 'St.Charge', 'quantity': '1', 'price': 'Not Available', 'currency': 'INR'}, {'slno': 15, 'description': 'Total Rs.', 'quantity': '1', 'price': 'Not Available', 'currency': 'INR'}], 'total_tax': {'CGST': 0.0, 'SGST': 0.0, 'IGST': 0.0}, 'total_charge': 0.0, 'total_discount': 0.0, 'total_amount': 0.0, 'amount_paid': 0.0, 'amount_due': 0.0, 'page_no': 22}, {'invoice_number': '20-21/2390', 'invoice_date': '16-3-2021', 'seller_details': {'name': 'TRANSITECH PRIVATE LIMITED', 'gst_no': '33AAFCT5065J1Z7', 'pan_no': 'Not Available', 'address': 'Plot No. 18-20, Ambit Park Road, Ambattur Industrial Estate, Chennai 600 058', 'phone_number': '7550015666 / 8939601566', 'email': 'support@freightx.in'}, 'buyer_details': {'name': 'UPS SCS (INDIA) PVT LTD', 'gst_no': '33AAACU2488B1ZN', 'pan_no': 'Not Available', 'address': 'No. 3/26, 10th Avenue, Ashok Nagar, Chennai', 'phone_number': 'Not Available', 'email': 'Not Available'}, 'items': [{'slno': 1, 'description': 'Your Freight Driver was', 'quantity': '1', 'price': '19200.00', 'currency': 'INR'}, {'slno': 2, 'description': 'Total Distance', 'quantity': '1', 'price': '0.00', 'currency': 'INR'}, {'slno': 3, 'description': 'Waiting Minutes', 'quantity': '1', 'price': '0.00', 'currency': 'INR'}, {'slno': 4, 'description': 'Total Trip Time', 'quantity': '1', 'price': '0.00', 'currency': 'INR'}], 'total_tax': {'CGST': 0.0, 'SGST': 0.0, 'IGST': 0.0}, 'total_charge': 19200.0, 'total_discount': 0.0, 'total_amount': 19200.0, 'amount_paid': 19200.0, 'amount_due': 0.0, 'page_no': 23}, {'invoice_number': '20212390', 'invoice_date': '3/16/2021', 'seller_details': {'name': 'TRANSITECH PRIVATE LIMITED', 'gst_no': '33AAFCT5065J1Z7', 'pan_no': 'Not Available', 'address': 'Plot No. 18-20, Ambit Park Road, Ambattur Industrial Estate, Ambattur Industrial Estate, Chennai 600 058', 'phone_number': '+91-7550015666,8939601566', 'email': 'support@freightxin'}, 'buyer_details': {'name': 'SALZAR EXPORTS LTD', 'gst_no': 'Not Available', 'pan_no': 'Not Available', 'address': '9/175A, Railway Feeder Road, Perianaickenpalayam, Coimbatore 641020', 'phone_number': 'Not Available', 'email': 'Not Available'}, 'items': [{'slno': 1, 'description': 'SB NO 9418939 / 17.03.21', 'quantity': 'Not Available', 'price': 'Not Available', 'currency': 'INR'}], 'total_tax': {'CGST': 0.0, 'SGST': 0.0, 'IGST': 0.0}, 'total_charge': 0.0, 'total_discount': 0.0, 'total_amount': 0.0, 'amount_paid': 0.0, 'amount_due': 0.0, 'page_no': 24}, {'invoice_number': '20-21/2391', 'invoice_date': '16-3-2021', 'seller_details': {'name': 'TRANSITECH PRIVATE LIMITED', 'gst_no': '33AAFCT5065J1Z7', 'pan_no': 'Not Available', 'address': 'Plot No. 18-20, Ambit Park Road, Ambattur Industrial Estate, Chennai 600 058', 'phone_number': '7550015666 / 8939601566', 'email': 'support@freightx.in'}, 'buyer_details': {'name': 'UPS SCS (INDIA) PVT LTD', 'gst_no': '33AAACU2488B1ZN', 'pan_no': 'Not Available', 'address': 'No. 3/26, 10th Avenue, Ashok Nagar, Chennai', 'phone_number': 'Not Available', 'email': 'Not Available'}, 'items': [{'slno': 1, 'description': 'Your Freight Driver was', 'quantity': '1', 'price': '19200.00', 'currency': 'INR'}], 'total_tax': {'CGST': 0.0, 'SGST': 0.0, 'IGST': 0.0}, 'total_charge': 19200.0, 'total_discount': 0.0, 'total_amount': 19200.0, 'amount_paid': 19200.0, 'amount_due': 0.0, 'page_no': 25}, {'invoice_number': '20212391', 'invoice_date': '3/16/2021', 'seller_details': {'name': 'TRANSITECH PRIVATE LIMITED', 'gst_no': 'Not Available', 'pan_no': 'Not Available', 'address': 'Plot No. 18-20, Ambit Park Road, Ambattur Industrial Estate, Ambattur Industrial Estate, Chennai 600 058', 'phone_number': '+91-7550015666,8939601566', 'email': 'support@freightx.in'}, 'buyer_details': {'name': 'SALZER EXPORTS LTD', 'gst_no': 'Not Available', 'pan_no': 'Not Available', 'address': '9/175A, Railway Feeder Road, Perianaickenpalayam, Coimbatore 641 020', 'phone_number': 'Not Available', 'email': 'Not Available'}, 'items': [{'slno': 1, 'description': 'Actual Kgs', 'quantity': '1', 'price': 'Rs P', 'currency': 'INR'}, {'slno': 2, 'description': 'Rate', 'quantity': '1', 'price': 'Rs P', 'currency': 'INR'}, {'slno': 3, 'description': 'Charged Kgs', 'quantity': '1', 'price': 'Rs P', 'currency': 'INR'}, {'slno': 4, 'description': 'Hamali', 'quantity': '1', 'price': 'Rs P', 'currency': 'INR'}, {'slno': 5, 'description': 'Door Collection', 'quantity': '1', 'price': 'Rs P', 'currency': 'INR'}, {'slno': 6, 'description': 'Pvt. Marking', 'quantity': '1', 'price': 'Rs P', 'currency': 'INR'}, {'slno': 7, 'description': 'Door Delivery', 'quantity': '1', 'price': 'Rs P', 'currency': 'INR'}, {'slno': 8, 'description': 'Surcharge', 'quantity': '1', 'price': 'Rs P', 'currency': 'INR'}, {'slno': 9, 'description': 'St.Charge', 'quantity': '1', 'price': 'Rs P', 'currency': 'INR'}], 'total_tax': {'CGST': 0.0, 'SGST': 0.0, 'IGST': 0.0}, 'total_charge': 0.0, 'total_discount': 0.0, 'total_amount': 0.0, 'amount_paid': 0.0, 'amount_due': 0.0, 'page_no': 26}, {'invoice_number': '20-21/2393', 'invoice_date': '16-3-2021', 'seller_details': {'name': 'TRANSITECH PRIVATE LIMITED', 'gst_no': '33AAFCT5065J1Z7', 'pan_no': 'Not Available', 'address': 'Plot No. 18-20, Ambit Park Road, Ambattur Industrial Estate, Chennai 600 058', 'phone_number': '7550015666 / 8939601566', 'email': 'support@freightx.in'}, 'buyer_details': {'name': 'UPS SCS (INDIA) PVT LTD', 'gst_no': '33AAACU2488B1ZN', 'pan_no': 'Not Available', 'address': 'No. 3/26, 10th Avenue, Ashok Nagar, Chennai', 'phone_number': 'Not Available', 'email': 'Not Available'}, 'items': [{'slno': 1, 'description': 'Your Freightx Driver was Vadivel', 'quantity': '500 Km', 'price': '19200.00', 'currency': 'INR'}], 'total_tax': {'CGST': 0.0, 'SGST': 0.0, 'IGST': 0.0}, 'total_charge': 0.0, 'total_discount': 0.0, 'total_amount': 19200.0, 'amount_paid': 19200.0, 'amount_due': 0.0, 'page_no': 27}, {'invoice_number': '20212393', 'invoice_date': '3/16/2021 12:00:00 AM', 'seller_details': {'name': 'TRANSITECH PRIVATE LIMITED', 'gst_no': '33AAFCT5065J1Z7', 'pan_no': 'Not Available', 'address': 'Plot No. 18-20, Ambit Park Road, Ambattur Industrial Estate, Ambattur Industrial Estate, Chennai 600 058', 'phone_number': '+91-7550015666,8939601566', 'email': 'support@freightx.in'}, 'buyer_details': {'name': 'SALZAR Exports Ltd', 'gst_no': 'Not Available', 'pan_no': 'Not Available', 'address': '9/175A, Railway Feeder Road, Perianaickenpalayam, Coimbatore 641020', 'phone_number': 'Not Available', 'email': 'Not Available'}, 'items': [{'slno': 1, 'description': 'SB 9418938 / 17.03.21', 'quantity': '1', 'price': 'Not Available', 'currency': 'INR'}], 'total_tax': {'CGST': 0.0, 'SGST': 0.0, 'IGST': 0.0}, 'total_charge': 0.0, 'total_discount': 0.0, 'total_amount': 0.0, 'amount_paid': 0.0, 'amount_due': 0.0, 'page_no': 28}, {'invoice_number': '20-21/2394', 'invoice_date': '16-3-2021', 'seller_details': {'name': 'TRANSITECH PRIVATE LIMITED', 'gst_no': '33AAFCT5065J1Z7', 'pan_no': 'NOT_AVAILABLE', 'address': 'Plot No. 18-20, Ambit Park Road, Ambattur Industrial Estate, Chennai 600 058', 'phone_number': '7550015666 / 8939601566', 'email': 'support@freightx.in'}, 'buyer_details': {'name': 'UPS SCS (INDIA) PVT LTD', 'gst_no': '33AAACU2488B1ZN', 'pan_no': 'NOT_AVAILABLE', 'address': 'UPS SCS (INDIA) PVT LTD, No. 3/26, 10th Avenue, Ashok Nagar, Chennai', 'phone_number': 'Not Available', 'email': 'Not Available'}, 'items': [{'slno': 1, 'description': 'Your Freightx Driver was', 'quantity': '1.000', 'price': '19200.00', 'currency': 'INR'}], 'total_tax': {'CGST': 0.0, 'SGST': 0.0, 'IGST': 0.0}, 'total_charge': 0.0, 'total_discount': 0.0, 'total_amount': 19200.0, 'amount_paid': 19200.0, 'amount_due': 0.0, 'page_no': 29}, {'invoice_number': 'NOT_AVAILABLE', 'invoice_date': '3/16/2021 12:00:00 AM', 'seller_details': {'name': 'TRANSITECH PRIVATE LIMITED', 'gst_no': '33AAFCT5065J1Z7', 'pan_no': 'Not Available', 'address': 'Plot No. 18-20, Ambit Park Road, Ambattur Industrial Estate, Ambattur Industrial Estate, Chennai 600 058', 'phone_number': '+91-7550015666,8939601566', 'email': 'support@freightxin'}, 'buyer_details': {'name': 'SALZER EXPORTS LTD', 'gst_no': 'Not Available', 'pan_no': 'Not Available', 'address': '9/175A, Railway Feeder Road, Periannaickenpalayam, Coimbatore 641020', 'phone_number': 'Not Available', 'email': 'Not Available'}, 'items': [{'slno': 1, 'description': 'SB 9418926/17.03.21', 'quantity': 'Not Available', 'price': 'Not Available', 'currency': 'INR'}], 'total_tax': {'CGST': 0.0, 'SGST': 0.0, 'IGST': 0.0}, 'total_charge': 0.0, 'total_discount': 0.0, 'total_amount': 0.0, 'amount_paid': 0.0, 'amount_due': 0.0, 'page_no': 30}, {'invoice_number': 'T003337/2021', 'invoice_date': '15-03-2021', 'seller_details': {'name': 'TRANSORION LOGISTICS SERVICES PVT LTD', 'gst_no': '33AACSO675B1ZT', 'pan_no': 'Not Available', 'address': 'CONTROL CONCEPTS CORPORATION DBA C3 CONTROLS P.O BOX NO 496 BEAVER PENNSYLVANIA USA 15009 EIN 25-1309760 US (UNITED STATES OF AMERICA)', 'phone_number': 'Not Available', 'email': 'Not Available'}, 'buyer_details': {'name': 'CONTROL CONCEPTS CORPORATION DBA C3 CONTROLS', 'gst_no': 'Not Available', 'pan_no': 'Not Available', 'address': '658 STATE AVE VANDORT PA 15009 USA', 'phone_number': 'Not Available', 'email': 'Not Available'}, 'items': [{'slno': 1, 'description': 'As per Tariff : 150', 'quantity': '6.61', 'price': '991.50000', 'currency': 'INR'}, {'slno': 2, 'description': 'As per Tariff : 250', 'quantity': '6.91', 'price': '124725.50000', 'currency': 'INR'}, {'slno': 3, 'description': 'As per Tariff : 29.8628', 'quantity': '0.54', 'price': '27.00000', 'currency': 'INR'}, {'slno': 4, 'description': 'As per Tariff : 50', 'quantity': '6.19', 'price': '309.38000', 'currency': 'INR'}, {'slno': 5, 'description': 'As per Tariff : 50', 'quantity': '6.44', 'price': '232.00000', 'currency': 'INR'}, {'slno': 6, 'description': 'As per Tariff : 50', 'quantity': '6.91', 'price': '345.50000', 'currency': 'INR'}], 'total_tax': {'CGST': 0.0, 'SGST': 0.0, 'IGST': 0.0}, 'total_charge': 0.0, 'total_discount': 0.0, 'total_amount': 3602.0, 'amount_paid': 0.0, 'amount_due': 0.0, 'page_no': 31}, {'invoice_number': 'T00332/2021', 'invoice_date': '15-03-2021', 'seller_details': {'name': 'CONTROL CONCEPTS CORPORATION DBA C3 CONTROLS', 'gst_no': 'Not Available', 'pan_no': 'Not Available', 'address': '656 STATE AVE, EXPORT, PA 15009 USA', 'phone_number': 'Not Available', 'email': 'Not Available'}, 'buyer_details': {'name': 'TRANSORION LOGISTICS SERVICES PVT LTD', 'gst_no': 'Not Available', 'pan_no': 'Not Available', 'address': 'TAMIL NADU', 'phone_number': 'Not Available', 'email': 'Not Available'}, 'items': [{'slno': 1, 'description': 'PER 1 NOS', 'quantity': '4.46', 'price': '2230.00000', 'currency': 'INR'}, {'slno': 2, 'description': 'PER 1 NOS', 'quantity': '4.67', 'price': '934.00000', 'currency': 'INR'}, {'slno': 3, 'description': 'PER 1 NOS', 'quantity': '5.65', 'price': '565.00000', 'currency': 'INR'}, {'slno': 4, 'description': 'PER 1 NOS', 'quantity': '0.9', 'price': '225.00000', 'currency': 'INR'}, {'slno': 5, 'description': 'PER 1 NOS', 'quantity': '5.65', 'price': '565.00000', 'currency': 'INR'}, {'slno': 6, 'description': 'PER 1 NOS', 'quantity': '4.09', 'price': '818.00000', 'currency': 'INR'}], 'total_tax': {'CGST': 0.0, 'SGST': 0.0, 'IGST': 0.0}, 'total_charge': 0.0, 'total_discount': 0.0, 'total_amount': 8167.0, 'amount_paid': 0.0, 'amount_due': 0.0, 'page_no': 32}, {'invoice_number': '200334/2021', 'invoice_date': '15-03-2021', 'seller_details': {'name': 'TRANSORION LOGISTICS SERVICES PVT LTD', 'gst_no': '33AADC3067SB1ZT', 'pan_no': 'Not Available', 'address': 'P.O BOX NO 496, BEAVER PENNSYLVANIA, USA 15009 RIN 25-1309760, US (UNITED STATES OF AMERICA)', 'phone_number': 'Not Available', 'email': 'Not Available'}, 'buyer_details': {'name': 'CONTROL CONCEPTS CORPORATION DBA C3 CONTROLS', 'gst_no': 'Not Available', 'pan_no': 'Not Available', 'address': 'VANPORT PA 15009 USA', 'phone_number': 'Not Available', 'email': 'Not Available'}, 'items': [{'slno': 1, 'description': 'CONTROL CONCEPTS CORPORATION DBA C3 CONTROLS 658 STATE AVE VANPORT PA 15009 USA', 'quantity': '120', 'price': '72.2', 'currency': 'INR'}], 'total_tax': {'CGST': 0.0, 'SGST': 0.0, 'IGST': 0.0}, 'total_charge': 0.0, 'total_discount': 0.0, 'total_amount': 2629.0, 'amount_paid': 0.0, 'amount_due': 0.0, 'page_no': 33}, {'invoice_number': '15-03-2021', 'invoice_date': '15-03-2021', 'seller_details': {'name': 'TRANSORION LOGISTICS SERVICES PVT LTD', 'gst_no': '33AADCS0675B1ZT', 'pan_no': 'Not Available', 'address': 'CONTROL CONCEPTS CORPORATION DBA C3 CONTROLS P O BOX NO 496 BEAVER PENNSYLVANIA USA 15009', 'phone_number': 'Not Available', 'email': 'Not Available'}, 'buyer_details': {'name': 'CONTROL CONCEPTS CORPORATION DBA C3 CONTROLS 658 STATE AVE VANPORT PA 15009 USA', 'gst_no': 'Not Available', 'pan_no': 'Not Available', 'address': 'Not Available', 'phone_number': 'Not Available', 'email': 'Not Available'}, 'items': [{'slno': 1, 'description': 'Not Available', 'quantity': 'Not Available', 'price': 'Not Available', 'currency': 'INR'}], 'total_tax': {'CGST': 0.0, 'SGST': 0.0, 'IGST': 0.0}, 'total_charge': 0.0, 'total_discount': 0.0, 'total_amount': 43861.5, 'amount_paid': 0.0, 'amount_due': 0.0, 'page_no': 34}, {'invoice_number': 'T003397/2021', 'invoice_date': '15-03-2021', 'seller_details': {'name': 'TRANSORION LOGISTICS SERVICES PVT LTD', 'gst_no': '33AADCSD675B1ZT', 'pan_no': 'Not Available', 'address': '9/117SA RAILWAY FEEDER ROAD, PERIANA ICKENPALAYAM COIMBATORE, TAMIL NADU-641020', 'phone_number': 'Not Available', 'email': 'Not Available'}, 'buyer_details': {'name': 'C3 CONTROLS CORPORATION DBA', 'gst_no': 'Not Available', 'pan_no': 'Not Available', 'address': '658 STATE AVE EXPORT, PA 15009 USA', 'phone_number': 'Not Available', 'email': 'Not Available'}, 'items': [{'slno': 1, 'description': 'BRAND:C3 GR-1/5 TO 5/5 OVER LOAD RELAY (NOS) BOL RELAY1 CLASS 10 RANGE 11-17A (320-B1017)', 'quantity': '8', 'price': '67.92000', 'currency': 'INR'}, {'slno': 2, 'description': 'BRAND:C3 GR-1/5 TO 5/5 OVER LOAD RELAY (NOS) BOL RELAY1 CLASS 10 RANGE 2.8-4A (320-B1D40)', 'quantity': '2', 'price': '16.98000', 'currency': 'INR'}, {'slno': 3, 'description': 'BRAND:C3 GR-1/5 TO 5/5 OVER LOAD RELAY (NOS) BOL RELAY1 CLASS10 RANGE 2.8-4A (320-B1D40)', 'quantity': '25', 'price': '212.25000', 'currency': 'INR'}, {'slno': 4, 'description': 'BRAND:C3 GR-1/5 TO 5/5 OVER LOAD RELAY (NOS) BOL RELAY1 CLASS 10 RANGE 5.6-8A (320-B1D80)', 'quantity': '25', 'price': '212.25000', 'currency': 'INR'}, {'slno': 5, 'description': 'BRAND:C3 GR-1/5 TO 5/5 OVER LOAD RELAY (NOS) BOL RELAY 1 CLASS 10 RANGE 5.6-8A (320-B1D80)', 'quantity': '5', 'price': '42.45000', 'currency': 'INR'}, {'slno': 6, 'description': 'BRAND:C3 GR-1/5 TO 5/5 OVER LOAD RELAY (NOS) BOL RELAY 1 CLASS 10 RANGE 5.6-8A (320-B1D80)', 'quantity': '10', 'price': '28.13', 'currency': 'INR'}, {'slno': 7, 'description': 'BRAND:C3 GR-1/5 TO 5/5 OVER LOAD RELAY (NOS) BOL RELAYS CLASS 10 RANGE 63-80A (320-B5U80)', 'quantity': '17', 'price': '144.33000', 'currency': 'INR'}], 'total_tax': {'CGST': 0.0, 'SGST': 0.0, 'IGST': 0.0}, 'total_charge': 0.0, 'total_discount': 0.0, 'total_amount': 4903.824, 'amount_paid': 0.0, 'amount_due': 0.0, 'page_no': 35}]}\n"
     ]
    }
   ],
   "source": [
    "print(json_data)"
   ]
  },
  {
   "cell_type": "code",
   "execution_count": 7,
   "id": "6045ba61-bb4c-40ce-96be-2d8796c23aa2",
   "metadata": {},
   "outputs": [
    {
     "data": {
      "text/plain": [
       "35"
      ]
     },
     "execution_count": 7,
     "metadata": {},
     "output_type": "execute_result"
    }
   ],
   "source": [
    "len(data[\"details\"])"
   ]
  },
  {
   "cell_type": "code",
   "execution_count": 18,
   "id": "e9c6d519-b984-43f4-8f7b-4b687e9e720b",
   "metadata": {},
   "outputs": [
    {
     "data": {
      "text/plain": [
       "{'invoice_number': '9608540',\n",
       " 'invoice_date': '27/03/2021',\n",
       " 'seller_details': {'name': 'AALCMIORSECHBBI TRANSOREIN LOGISTICS SERVICES PVT LTD',\n",
       "  'gst_no': 'Not Available',\n",
       "  'pan_no': 'Not Available',\n",
       "  'address': 'CHENNAI - 600001',\n",
       "  'phone_number': 'Not Available',\n",
       "  'email': 'Not Available'},\n",
       " 'buyer_details': {'name': 'Not Available',\n",
       "  'gst_no': 'Not Available',\n",
       "  'pan_no': 'Not Available',\n",
       "  'address': 'Not Available',\n",
       "  'phone_number': 'Not Available',\n",
       "  'email': 'Not Available'},\n",
       " 'items': [{'slno': 1,\n",
       "   'description': 'RITC',\n",
       "   'quantity': '1.00',\n",
       "   'price': '78000.00',\n",
       "   'currency': 'INR'},\n",
       "  {'slno': 2,\n",
       "   'description': 'SINGLE WINDOW INFO TYPE DETAILS',\n",
       "   'quantity': '1.00',\n",
       "   'price': '12985.00',\n",
       "   'currency': 'INR'}],\n",
       " 'total_tax': {'CGST': 0.0, 'SGST': 0.0, 'IGST': 0.0},\n",
       " 'total_charge': 0.0,\n",
       " 'total_discount': 0.0,\n",
       " 'total_amount': 33760.0,\n",
       " 'amount_paid': 0.0,\n",
       " 'amount_due': 0.0,\n",
       " 'page_no': 18}"
      ]
     },
     "execution_count": 18,
     "metadata": {},
     "output_type": "execute_result"
    }
   ],
   "source": [
    "data[\"details\"][17]"
   ]
  },
  {
   "cell_type": "code",
   "execution_count": null,
   "id": "68084b33-300f-4f19-8848-61e47c4c35e2",
   "metadata": {},
   "outputs": [],
   "source": []
  }
 ],
 "metadata": {
  "kernelspec": {
   "display_name": "Python 3 (ipykernel)",
   "language": "python",
   "name": "python3"
  },
  "language_info": {
   "codemirror_mode": {
    "name": "ipython",
    "version": 3
   },
   "file_extension": ".py",
   "mimetype": "text/x-python",
   "name": "python",
   "nbconvert_exporter": "python",
   "pygments_lexer": "ipython3",
   "version": "3.11.9"
  }
 },
 "nbformat": 4,
 "nbformat_minor": 5
}
