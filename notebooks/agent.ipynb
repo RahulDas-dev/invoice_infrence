{
 "cells": [
  {
   "cell_type": "code",
   "execution_count": 1,
   "id": "f63cec3f-e00b-4196-a5cb-57338faa2ea0",
   "metadata": {},
   "outputs": [],
   "source": [
    "import logging\n",
    "import sys\n",
    "\n",
    "sys.path.append(\"src\")\n",
    "\n",
    "\n",
    "import nest_asyncio\n",
    "from dotenv import load_dotenv\n",
    "\n",
    "from src.configs import app_config\n",
    "from src.core import MultiPageAgent, PdfToImageConverter"
   ]
  },
  {
   "cell_type": "code",
   "execution_count": 2,
   "id": "a3be7e9a-0242-4060-930b-7f17a2df6e8a",
   "metadata": {},
   "outputs": [],
   "source": [
    "load_dotenv()\n",
    "\n",
    "logging.basicConfig(\n",
    "    level=logging.INFO,\n",
    "    format=\"%(asctime)s - %(name)s - %(levelname)s - %(message)s\",\n",
    "    handlers=[logging.StreamHandler()],\n",
    ")\n",
    "nest_asyncio.apply()"
   ]
  },
  {
   "cell_type": "code",
   "execution_count": 3,
   "id": "96de1a7a-39d6-4514-9fc3-bc4d4c2ded5f",
   "metadata": {},
   "outputs": [
    {
     "name": "stderr",
     "output_type": "stream",
     "text": [
      "2025-03-20 22:23:36,557 - src.core.pdf_to_image - INFO - Processing Images of shape 1653, 2339\n",
      "2025-03-20 22:23:36,610 - src.core.pdf_to_image - INFO - Resized Images to shape (791, 1120)\n",
      "2025-03-20 22:23:36,648 - src.core.pdf_to_image - INFO - Processing Images of shape 1653, 2339\n",
      "2025-03-20 22:23:36,701 - src.core.pdf_to_image - INFO - Resized Images to shape (791, 1120)\n",
      "2025-03-20 22:23:36,720 - src.core.pdf_to_image - INFO - Processing Images of shape 1653, 2339\n",
      "2025-03-20 22:23:36,775 - src.core.pdf_to_image - INFO - Resized Images to shape (791, 1120)\n",
      "2025-03-20 22:23:36,803 - src.core.pdf_to_image - INFO - Processing Images of shape 1653, 2339\n",
      "2025-03-20 22:23:36,857 - src.core.pdf_to_image - INFO - Resized Images to shape (791, 1120)\n",
      "2025-03-20 22:23:36,881 - src.core.pdf_to_image - INFO - Processing Images of shape 1653, 2339\n",
      "2025-03-20 22:23:36,931 - src.core.pdf_to_image - INFO - Resized Images to shape (791, 1120)\n",
      "2025-03-20 22:23:36,950 - src.core.pdf_to_image - INFO - Processing Images of shape 1653, 2339\n",
      "2025-03-20 22:23:37,008 - src.core.pdf_to_image - INFO - Resized Images to shape (791, 1120)\n",
      "2025-03-20 22:23:37,033 - src.core.pdf_to_image - INFO - Processing Images of shape 1653, 2339\n",
      "2025-03-20 22:23:37,078 - src.core.pdf_to_image - INFO - Resized Images to shape (791, 1120)\n",
      "2025-03-20 22:23:37,108 - src.core.pdf_to_image - INFO - Processing Images of shape 1653, 2339\n",
      "2025-03-20 22:23:37,156 - src.core.pdf_to_image - INFO - Resized Images to shape (791, 1120)\n",
      "2025-03-20 22:23:37,164 - src.core.pdf_to_image - INFO - Processing Images of shape 1654, 2339\n",
      "2025-03-20 22:23:37,218 - src.core.pdf_to_image - INFO - Resized Images to shape (791, 1120)\n",
      "2025-03-20 22:23:37,237 - src.core.pdf_to_image - INFO - Processing Images of shape 1654, 2339\n",
      "2025-03-20 22:23:37,291 - src.core.pdf_to_image - INFO - Resized Images to shape (791, 1120)\n",
      "2025-03-20 22:23:37,325 - src.core.pdf_to_image - INFO - Processing Images of shape 1654, 2339\n",
      "2025-03-20 22:23:37,381 - src.core.pdf_to_image - INFO - Resized Images to shape (791, 1120)\n",
      "2025-03-20 22:23:37,414 - src.core.pdf_to_image - INFO - Processing Images of shape 1654, 2339\n",
      "2025-03-20 22:23:37,465 - src.core.pdf_to_image - INFO - Resized Images to shape (791, 1120)\n",
      "2025-03-20 22:23:37,497 - src.core.pdf_to_image - INFO - Processing Images of shape 1654, 2339\n",
      "2025-03-20 22:23:37,539 - src.core.pdf_to_image - INFO - Resized Images to shape (791, 1120)\n",
      "2025-03-20 22:23:37,564 - src.core.pdf_to_image - INFO - Processing Images of shape 1654, 2339\n",
      "2025-03-20 22:23:37,604 - src.core.pdf_to_image - INFO - Resized Images to shape (791, 1120)\n",
      "2025-03-20 22:23:37,642 - src.core.pdf_to_image - INFO - Processing Images of shape 1654, 2339\n",
      "2025-03-20 22:23:37,697 - src.core.pdf_to_image - INFO - Resized Images to shape (791, 1120)\n",
      "2025-03-20 22:23:37,740 - src.core.pdf_to_image - INFO - Processing Images of shape 1654, 2339\n",
      "2025-03-20 22:23:37,796 - src.core.pdf_to_image - INFO - Resized Images to shape (791, 1120)\n",
      "2025-03-20 22:23:37,834 - src.core.pdf_to_image - INFO - Processing Images of shape 1654, 2339\n",
      "2025-03-20 22:23:37,890 - src.core.pdf_to_image - INFO - Resized Images to shape (791, 1120)\n",
      "2025-03-20 22:23:37,930 - src.core.pdf_to_image - INFO - Processing Images of shape 1654, 2339\n",
      "2025-03-20 22:23:37,989 - src.core.pdf_to_image - INFO - Resized Images to shape (791, 1120)\n",
      "2025-03-20 22:23:38,029 - src.core.pdf_to_image - INFO - Processing Images of shape 1654, 2339\n",
      "2025-03-20 22:23:38,085 - src.core.pdf_to_image - INFO - Resized Images to shape (791, 1120)\n",
      "2025-03-20 22:23:38,125 - src.core.pdf_to_image - INFO - Processing Images of shape 1654, 2339\n",
      "2025-03-20 22:23:38,181 - src.core.pdf_to_image - INFO - Resized Images to shape (791, 1120)\n",
      "2025-03-20 22:23:38,223 - src.core.pdf_to_image - INFO - Processing Images of shape 1653, 2339\n",
      "2025-03-20 22:23:38,278 - src.core.pdf_to_image - INFO - Resized Images to shape (791, 1120)\n",
      "2025-03-20 22:23:38,311 - src.core.pdf_to_image - INFO - Processing Images of shape 1653, 2339\n",
      "2025-03-20 22:23:38,351 - src.core.pdf_to_image - INFO - Resized Images to shape (791, 1120)\n",
      "2025-03-20 22:23:38,395 - src.core.pdf_to_image - INFO - Processing Images of shape 1653, 2339\n",
      "2025-03-20 22:23:38,469 - src.core.pdf_to_image - INFO - Resized Images to shape (791, 1120)\n",
      "2025-03-20 22:23:38,510 - src.core.pdf_to_image - INFO - Processing Images of shape 1653, 2339\n",
      "2025-03-20 22:23:38,579 - src.core.pdf_to_image - INFO - Resized Images to shape (791, 1120)\n",
      "2025-03-20 22:23:38,611 - src.core.pdf_to_image - INFO - Processing Images of shape 1653, 2339\n",
      "2025-03-20 22:23:38,679 - src.core.pdf_to_image - INFO - Resized Images to shape (791, 1120)\n",
      "2025-03-20 22:23:38,718 - src.core.pdf_to_image - INFO - Processing Images of shape 1653, 2339\n",
      "2025-03-20 22:23:38,775 - src.core.pdf_to_image - INFO - Resized Images to shape (791, 1120)\n",
      "2025-03-20 22:23:38,805 - src.core.pdf_to_image - INFO - Processing Images of shape 1653, 2339\n",
      "2025-03-20 22:23:38,870 - src.core.pdf_to_image - INFO - Resized Images to shape (791, 1120)\n",
      "2025-03-20 22:23:38,891 - src.core.pdf_to_image - INFO - Processing Images of shape 1653, 2339\n",
      "2025-03-20 22:23:38,956 - src.core.pdf_to_image - INFO - Resized Images to shape (791, 1120)\n",
      "2025-03-20 22:23:38,984 - src.core.pdf_to_image - INFO - Processing Images of shape 1653, 2339\n",
      "2025-03-20 22:23:39,038 - src.core.pdf_to_image - INFO - Resized Images to shape (791, 1120)\n",
      "2025-03-20 22:23:39,072 - src.core.pdf_to_image - INFO - Processing Images of shape 1653, 2339\n",
      "2025-03-20 22:23:39,122 - src.core.pdf_to_image - INFO - Resized Images to shape (791, 1120)\n",
      "2025-03-20 22:23:39,146 - src.core.pdf_to_image - INFO - Processing Images of shape 1654, 2339\n",
      "2025-03-20 22:23:39,207 - src.core.pdf_to_image - INFO - Resized Images to shape (791, 1120)\n",
      "2025-03-20 22:23:39,271 - src.core.pdf_to_image - INFO - Processing Images of shape 1654, 2339\n",
      "2025-03-20 22:23:39,338 - src.core.pdf_to_image - INFO - Resized Images to shape (791, 1120)\n",
      "2025-03-20 22:23:39,388 - src.core.pdf_to_image - INFO - Processing Images of shape 1654, 2339\n",
      "2025-03-20 22:23:39,435 - src.core.pdf_to_image - INFO - Resized Images to shape (791, 1120)\n",
      "2025-03-20 22:23:39,488 - src.core.pdf_to_image - INFO - Processing Images of shape 1654, 2339\n",
      "2025-03-20 22:23:39,545 - src.core.pdf_to_image - INFO - Resized Images to shape (791, 1120)\n",
      "2025-03-20 22:23:39,593 - src.core.pdf_to_image - INFO - Processing Images of shape 1654, 2339\n",
      "2025-03-20 22:23:39,645 - src.core.pdf_to_image - INFO - Resized Images to shape (791, 1120)\n"
     ]
    }
   ],
   "source": [
    "converter = PdfToImageConverter(propeler_path=app_config.PROPELLER_PATH, output_folder=app_config.TMP_IMG_PATH)\n",
    "\n",
    "pdf_path = \"C:/Users/rdas6/OneDrive/Desktop/codespace/vyturr/dataset/Invoice-Copy-20.pdf\"\n",
    "image_dir = converter.run(pdf_path)"
   ]
  },
  {
   "cell_type": "code",
   "execution_count": 4,
   "id": "0b3cda55-39a2-478c-9436-0be96389bc0b",
   "metadata": {},
   "outputs": [
    {
     "name": "stderr",
     "output_type": "stream",
     "text": [
      "2025-03-20 22:23:48,058 - src.core.llm - INFO - Agent1 Processing Page : C:\\Users\\rdas6\\OneDrive\\Desktop\\codespace\\vyturr\\temp\\img\\Invoice-Copy-20\\Page_01.png\n",
      "2025-03-20 22:24:00,629 - src.core.llm - INFO - Agent1 Processing Page : C:\\Users\\rdas6\\OneDrive\\Desktop\\codespace\\vyturr\\temp\\img\\Invoice-Copy-20\\Page_02.png\n",
      "2025-03-20 22:24:08,512 - src.core.llm - INFO - Agent1 Processing Page : C:\\Users\\rdas6\\OneDrive\\Desktop\\codespace\\vyturr\\temp\\img\\Invoice-Copy-20\\Page_03.png\n",
      "2025-03-20 22:24:20,387 - src.core.llm - INFO - Agent1 Processing Page : C:\\Users\\rdas6\\OneDrive\\Desktop\\codespace\\vyturr\\temp\\img\\Invoice-Copy-20\\Page_04.png\n",
      "2025-03-20 22:24:32,782 - src.core.llm - INFO - Agent1 Processing Page : C:\\Users\\rdas6\\OneDrive\\Desktop\\codespace\\vyturr\\temp\\img\\Invoice-Copy-20\\Page_05.png\n",
      "2025-03-20 22:24:42,621 - src.core.llm - INFO - Agent1 Processing Page : C:\\Users\\rdas6\\OneDrive\\Desktop\\codespace\\vyturr\\temp\\img\\Invoice-Copy-20\\Page_06.png\n",
      "2025-03-20 22:24:53,467 - src.core.llm - INFO - Agent1 Processing Page : C:\\Users\\rdas6\\OneDrive\\Desktop\\codespace\\vyturr\\temp\\img\\Invoice-Copy-20\\Page_07.png\n",
      "2025-03-20 22:25:01,248 - src.core.llm - INFO - Agent1 Processing Page : C:\\Users\\rdas6\\OneDrive\\Desktop\\codespace\\vyturr\\temp\\img\\Invoice-Copy-20\\Page_08.png\n",
      "2025-03-20 22:25:02,348 - src.core.llm - INFO - Agent1 Processing Page : C:\\Users\\rdas6\\OneDrive\\Desktop\\codespace\\vyturr\\temp\\img\\Invoice-Copy-20\\Page_09.png\n",
      "2025-03-20 22:25:08,009 - src.core.llm - INFO - Agent1 Processing Page : C:\\Users\\rdas6\\OneDrive\\Desktop\\codespace\\vyturr\\temp\\img\\Invoice-Copy-20\\Page_10.png\n",
      "2025-03-20 22:25:11,900 - src.core.llm - INFO - Agent1 Processing Page : C:\\Users\\rdas6\\OneDrive\\Desktop\\codespace\\vyturr\\temp\\img\\Invoice-Copy-20\\Page_11.png\n",
      "2025-03-20 22:25:12,940 - src.core.llm - INFO - Agent1 Processing Page : C:\\Users\\rdas6\\OneDrive\\Desktop\\codespace\\vyturr\\temp\\img\\Invoice-Copy-20\\Page_12.png\n",
      "2025-03-20 22:25:14,050 - src.core.llm - INFO - Agent1 Processing Page : C:\\Users\\rdas6\\OneDrive\\Desktop\\codespace\\vyturr\\temp\\img\\Invoice-Copy-20\\Page_13.png\n",
      "2025-03-20 22:25:19,786 - src.core.llm - INFO - Agent1 Processing Page : C:\\Users\\rdas6\\OneDrive\\Desktop\\codespace\\vyturr\\temp\\img\\Invoice-Copy-20\\Page_14.png\n",
      "2025-03-20 22:25:21,297 - src.core.llm - INFO - Agent1 Processing Page : C:\\Users\\rdas6\\OneDrive\\Desktop\\codespace\\vyturr\\temp\\img\\Invoice-Copy-20\\Page_15.png\n",
      "2025-03-20 22:25:28,074 - src.core.llm - INFO - Agent1 Processing Page : C:\\Users\\rdas6\\OneDrive\\Desktop\\codespace\\vyturr\\temp\\img\\Invoice-Copy-20\\Page_16.png\n",
      "2025-03-20 22:25:34,941 - src.core.llm - INFO - Agent1 Processing Page : C:\\Users\\rdas6\\OneDrive\\Desktop\\codespace\\vyturr\\temp\\img\\Invoice-Copy-20\\Page_17.png\n",
      "2025-03-20 22:25:40,158 - src.core.llm - INFO - Agent1 Processing Page : C:\\Users\\rdas6\\OneDrive\\Desktop\\codespace\\vyturr\\temp\\img\\Invoice-Copy-20\\Page_18.png\n",
      "2025-03-20 22:25:46,203 - src.core.llm - INFO - Agent1 Processing Page : C:\\Users\\rdas6\\OneDrive\\Desktop\\codespace\\vyturr\\temp\\img\\Invoice-Copy-20\\Page_19.png\n",
      "2025-03-20 22:25:48,544 - src.core.llm - INFO - Agent1 Processing Page : C:\\Users\\rdas6\\OneDrive\\Desktop\\codespace\\vyturr\\temp\\img\\Invoice-Copy-20\\Page_20.png\n",
      "2025-03-20 22:25:49,983 - src.core.llm - INFO - Agent1 Processing Page : C:\\Users\\rdas6\\OneDrive\\Desktop\\codespace\\vyturr\\temp\\img\\Invoice-Copy-20\\Page_21.png\n",
      "2025-03-20 22:25:57,161 - src.core.llm - INFO - Agent1 Processing Page : C:\\Users\\rdas6\\OneDrive\\Desktop\\codespace\\vyturr\\temp\\img\\Invoice-Copy-20\\Page_22.png\n",
      "2025-03-20 22:26:09,897 - src.core.llm - INFO - Agent1 Processing Page : C:\\Users\\rdas6\\OneDrive\\Desktop\\codespace\\vyturr\\temp\\img\\Invoice-Copy-20\\Page_23.png\n",
      "2025-03-20 22:26:18,272 - src.core.llm - INFO - Agent1 Processing Page : C:\\Users\\rdas6\\OneDrive\\Desktop\\codespace\\vyturr\\temp\\img\\Invoice-Copy-20\\Page_24.png\n",
      "2025-03-20 22:26:25,833 - src.core.llm - INFO - Agent1 Processing Page : C:\\Users\\rdas6\\OneDrive\\Desktop\\codespace\\vyturr\\temp\\img\\Invoice-Copy-20\\Page_25.png\n",
      "2025-03-20 22:26:32,596 - src.core.llm - INFO - Agent1 Processing Page : C:\\Users\\rdas6\\OneDrive\\Desktop\\codespace\\vyturr\\temp\\img\\Invoice-Copy-20\\Page_26.png\n",
      "2025-03-20 22:26:42,015 - src.core.llm - INFO - Agent1 Processing Page : C:\\Users\\rdas6\\OneDrive\\Desktop\\codespace\\vyturr\\temp\\img\\Invoice-Copy-20\\Page_27.png\n",
      "2025-03-20 22:26:50,001 - src.core.llm - INFO - Agent1 Processing Page : C:\\Users\\rdas6\\OneDrive\\Desktop\\codespace\\vyturr\\temp\\img\\Invoice-Copy-20\\Page_28.png\n",
      "2025-03-20 22:26:56,856 - src.core.llm - INFO - Agent1 Processing Page : C:\\Users\\rdas6\\OneDrive\\Desktop\\codespace\\vyturr\\temp\\img\\Invoice-Copy-20\\Page_29.png\n",
      "2025-03-20 22:27:03,774 - src.core.llm - INFO - Agent1 Processing Page : C:\\Users\\rdas6\\OneDrive\\Desktop\\codespace\\vyturr\\temp\\img\\Invoice-Copy-20\\Page_30.png\n",
      "2025-03-20 22:27:12,639 - src.core.llm - INFO - Agent1 Processing Page : C:\\Users\\rdas6\\OneDrive\\Desktop\\codespace\\vyturr\\temp\\img\\Invoice-Copy-20\\Page_31.png\n",
      "2025-03-20 22:27:21,865 - src.core.llm - INFO - Agent1 Processing Page : C:\\Users\\rdas6\\OneDrive\\Desktop\\codespace\\vyturr\\temp\\img\\Invoice-Copy-20\\Page_32.png\n",
      "2025-03-20 22:27:30,135 - src.core.llm - INFO - Agent1 Processing Page : C:\\Users\\rdas6\\OneDrive\\Desktop\\codespace\\vyturr\\temp\\img\\Invoice-Copy-20\\Page_33.png\n",
      "2025-03-20 22:27:37,717 - src.core.llm - INFO - Agent1 Processing Page : C:\\Users\\rdas6\\OneDrive\\Desktop\\codespace\\vyturr\\temp\\img\\Invoice-Copy-20\\Page_34.png\n",
      "2025-03-20 22:27:44,067 - src.core.llm - INFO - Agent1 Processing Page : C:\\Users\\rdas6\\OneDrive\\Desktop\\codespace\\vyturr\\temp\\img\\Invoice-Copy-20\\Page_35.png\n",
      "2025-03-20 22:27:57,586 - src.core.llm - INFO - Agent1 has completed the processing of 35 pages\n",
      "2025-03-20 22:27:57,587 - src.core.llm - INFO - Agent2 Processing Page No : 1\n",
      "2025-03-20 22:28:01,785 - httpx - INFO - HTTP Request: POST https://api.openai.com/v1/chat/completions \"HTTP/1.1 200 OK\"\n",
      "2025-03-20 22:28:01,800 - src.core.llm - INFO - Agent2 Processing Page No : 2\n",
      "2025-03-20 22:28:06,905 - httpx - INFO - HTTP Request: POST https://api.openai.com/v1/chat/completions \"HTTP/1.1 200 OK\"\n",
      "2025-03-20 22:28:06,911 - src.core.llm - INFO - Agent2 Processing Page No : 3\n",
      "2025-03-20 22:28:11,074 - httpx - INFO - HTTP Request: POST https://api.openai.com/v1/chat/completions \"HTTP/1.1 200 OK\"\n",
      "2025-03-20 22:28:11,077 - src.core.llm - INFO - Agent2 Processing Page No : 4\n",
      "2025-03-20 22:28:16,306 - httpx - INFO - HTTP Request: POST https://api.openai.com/v1/chat/completions \"HTTP/1.1 200 OK\"\n",
      "2025-03-20 22:28:16,324 - src.core.llm - INFO - Agent2 Processing Page No : 5\n",
      "2025-03-20 22:28:20,004 - httpx - INFO - HTTP Request: POST https://api.openai.com/v1/chat/completions \"HTTP/1.1 200 OK\"\n",
      "2025-03-20 22:28:20,012 - src.core.llm - INFO - Agent2 Processing Page No : 6\n",
      "2025-03-20 22:28:23,696 - httpx - INFO - HTTP Request: POST https://api.openai.com/v1/chat/completions \"HTTP/1.1 200 OK\"\n",
      "2025-03-20 22:28:23,698 - src.core.llm - INFO - Agent2 Processing Page No : 7\n",
      "2025-03-20 22:28:30,965 - httpx - INFO - HTTP Request: POST https://api.openai.com/v1/chat/completions \"HTTP/1.1 200 OK\"\n",
      "2025-03-20 22:28:30,970 - src.core.llm - INFO - Agent2 Processing Page No : 8\n",
      "2025-03-20 22:28:32,194 - httpx - INFO - HTTP Request: POST https://api.openai.com/v1/chat/completions \"HTTP/1.1 200 OK\"\n",
      "2025-03-20 22:28:32,196 - src.core.llm - INFO - Agent2 Processing Page No : 9\n",
      "2025-03-20 22:28:34,827 - httpx - INFO - HTTP Request: POST https://api.openai.com/v1/chat/completions \"HTTP/1.1 200 OK\"\n",
      "2025-03-20 22:28:34,833 - src.core.llm - INFO - Agent2 Processing Page No : 10\n",
      "2025-03-20 22:28:37,829 - httpx - INFO - HTTP Request: POST https://api.openai.com/v1/chat/completions \"HTTP/1.1 200 OK\"\n",
      "2025-03-20 22:28:37,831 - src.core.llm - INFO - Agent2 Processing Page No : 11\n",
      "2025-03-20 22:28:38,645 - httpx - INFO - HTTP Request: POST https://api.openai.com/v1/chat/completions \"HTTP/1.1 200 OK\"\n",
      "2025-03-20 22:28:38,650 - src.core.llm - INFO - Agent2 Processing Page No : 12\n",
      "2025-03-20 22:28:39,474 - httpx - INFO - HTTP Request: POST https://api.openai.com/v1/chat/completions \"HTTP/1.1 200 OK\"\n",
      "2025-03-20 22:28:39,477 - src.core.llm - INFO - Agent2 Processing Page No : 13\n",
      "2025-03-20 22:28:41,911 - httpx - INFO - HTTP Request: POST https://api.openai.com/v1/chat/completions \"HTTP/1.1 200 OK\"\n",
      "2025-03-20 22:28:41,930 - src.core.llm - INFO - Agent2 Processing Page No : 14\n",
      "2025-03-20 22:28:42,948 - httpx - INFO - HTTP Request: POST https://api.openai.com/v1/chat/completions \"HTTP/1.1 200 OK\"\n",
      "2025-03-20 22:28:42,954 - src.core.llm - INFO - Agent2 Processing Page No : 15\n",
      "2025-03-20 22:28:46,018 - httpx - INFO - HTTP Request: POST https://api.openai.com/v1/chat/completions \"HTTP/1.1 200 OK\"\n",
      "2025-03-20 22:28:46,024 - src.core.llm - INFO - Agent2 Processing Page No : 16\n",
      "2025-03-20 22:28:48,266 - httpx - INFO - HTTP Request: POST https://api.openai.com/v1/chat/completions \"HTTP/1.1 200 OK\"\n",
      "2025-03-20 22:28:48,274 - src.core.llm - INFO - Agent2 Processing Page No : 17\n",
      "2025-03-20 22:28:51,141 - httpx - INFO - HTTP Request: POST https://api.openai.com/v1/chat/completions \"HTTP/1.1 200 OK\"\n",
      "2025-03-20 22:28:51,143 - src.core.llm - INFO - Agent2 Processing Page No : 18\n",
      "2025-03-20 22:28:54,103 - httpx - INFO - HTTP Request: POST https://api.openai.com/v1/chat/completions \"HTTP/1.1 200 OK\"\n",
      "2025-03-20 22:28:54,114 - src.core.llm - INFO - Agent2 Processing Page No : 19\n",
      "2025-03-20 22:28:55,033 - httpx - INFO - HTTP Request: POST https://api.openai.com/v1/chat/completions \"HTTP/1.1 200 OK\"\n",
      "2025-03-20 22:28:55,036 - src.core.llm - INFO - Agent2 Processing Page No : 20\n",
      "2025-03-20 22:28:56,147 - httpx - INFO - HTTP Request: POST https://api.openai.com/v1/chat/completions \"HTTP/1.1 200 OK\"\n",
      "2025-03-20 22:28:56,162 - src.core.llm - INFO - Agent2 Processing Page No : 21\n",
      "2025-03-20 22:29:05,984 - httpx - INFO - HTTP Request: POST https://api.openai.com/v1/chat/completions \"HTTP/1.1 200 OK\"\n",
      "2025-03-20 22:29:05,992 - src.core.llm - INFO - Agent2 Processing Page No : 22\n",
      "2025-03-20 22:29:11,209 - httpx - INFO - HTTP Request: POST https://api.openai.com/v1/chat/completions \"HTTP/1.1 200 OK\"\n",
      "2025-03-20 22:29:11,214 - src.core.llm - INFO - Agent2 Processing Page No : 23\n",
      "2025-03-20 22:29:14,693 - httpx - INFO - HTTP Request: POST https://api.openai.com/v1/chat/completions \"HTTP/1.1 200 OK\"\n",
      "2025-03-20 22:29:14,696 - src.core.llm - INFO - Agent2 Processing Page No : 24\n",
      "2025-03-20 22:29:17,173 - httpx - INFO - HTTP Request: POST https://api.openai.com/v1/chat/completions \"HTTP/1.1 200 OK\"\n",
      "2025-03-20 22:29:17,177 - src.core.llm - INFO - Agent2 Processing Page No : 25\n",
      "2025-03-20 22:29:20,018 - httpx - INFO - HTTP Request: POST https://api.openai.com/v1/chat/completions \"HTTP/1.1 200 OK\"\n",
      "2025-03-20 22:29:20,019 - src.core.llm - INFO - Agent2 Processing Page No : 26\n",
      "2025-03-20 22:29:24,625 - httpx - INFO - HTTP Request: POST https://api.openai.com/v1/chat/completions \"HTTP/1.1 200 OK\"\n",
      "2025-03-20 22:29:24,629 - src.core.llm - INFO - Agent2 Processing Page No : 27\n",
      "2025-03-20 22:29:27,179 - httpx - INFO - HTTP Request: POST https://api.openai.com/v1/chat/completions \"HTTP/1.1 200 OK\"\n",
      "2025-03-20 22:29:27,192 - src.core.llm - INFO - Agent2 Processing Page No : 28\n",
      "2025-03-20 22:29:30,736 - httpx - INFO - HTTP Request: POST https://api.openai.com/v1/chat/completions \"HTTP/1.1 200 OK\"\n",
      "2025-03-20 22:29:30,739 - src.core.llm - INFO - Agent2 Processing Page No : 29\n",
      "2025-03-20 22:29:34,142 - httpx - INFO - HTTP Request: POST https://api.openai.com/v1/chat/completions \"HTTP/1.1 200 OK\"\n",
      "2025-03-20 22:29:34,154 - src.core.llm - INFO - Agent2 Processing Page No : 30\n",
      "2025-03-20 22:29:37,006 - httpx - INFO - HTTP Request: POST https://api.openai.com/v1/chat/completions \"HTTP/1.1 200 OK\"\n",
      "2025-03-20 22:29:37,019 - src.core.llm - INFO - Agent2 Processing Page No : 31\n",
      "2025-03-20 22:29:40,491 - httpx - INFO - HTTP Request: POST https://api.openai.com/v1/chat/completions \"HTTP/1.1 200 OK\"\n",
      "2025-03-20 22:29:40,500 - src.core.llm - INFO - Agent2 Processing Page No : 32\n",
      "2025-03-20 22:29:44,284 - httpx - INFO - HTTP Request: POST https://api.openai.com/v1/chat/completions \"HTTP/1.1 200 OK\"\n",
      "2025-03-20 22:29:44,284 - src.core.llm - INFO - Agent2 Processing Page No : 33\n",
      "2025-03-20 22:29:46,740 - httpx - INFO - HTTP Request: POST https://api.openai.com/v1/chat/completions \"HTTP/1.1 200 OK\"\n",
      "2025-03-20 22:29:46,748 - src.core.llm - INFO - Agent2 Processing Page No : 34\n",
      "2025-03-20 22:29:49,305 - httpx - INFO - HTTP Request: POST https://api.openai.com/v1/chat/completions \"HTTP/1.1 200 OK\"\n",
      "2025-03-20 22:29:49,309 - src.core.llm - INFO - Agent2 Processing Page No : 35\n",
      "2025-03-20 22:29:54,426 - httpx - INFO - HTTP Request: POST https://api.openai.com/v1/chat/completions \"HTTP/1.1 200 OK\"\n"
     ]
    }
   ],
   "source": [
    "data, page_content = MultiPageAgent().run(image_dir)"
   ]
  },
  {
   "cell_type": "code",
   "execution_count": 6,
   "id": "cf07c32c-a072-441f-8b56-e0a080a18516",
   "metadata": {},
   "outputs": [
    {
     "name": "stdout",
     "output_type": "stream",
     "text": [
      "{'details': [{'invoice_number': 'Trans_BL_004', 'invoice_date': '08/04/2021', 'seller_details': {'name': 'Transitech Private Limited', 'gst_no': '33AAFCT5065J1Z7', 'pan_no': 'Not Available', 'address': 'Regd. & Corp. Office: Plot No. 18-20, Ambit Park Road, Ambattur Industrial Estate, Chennai - 600 058. Tamilnadu, India.', 'phone_number': '+91-44-4203 1951', 'email': 'info@transitech.in'}, 'buyer_details': {'name': 'Billionloans Financial Services Pvt Ltd', 'gst_no': 'Not Available', 'pan_no': 'Not Available', 'address': '370, 4th Cross, J P Nagar, III Phase, Bangalore 560 078, India', 'phone_number': 'Not Available', 'email': 'Not Available'}, 'items': [{'slno': 1, 'description': 'UPS SCS (India) Pvt Ltd', 'quantity': '20 FEET', 'price': '27000.00', 'currency': 'INR'}, {'slno': 2, 'description': 'UPS SCS (India) Pvt Ltd', 'quantity': '20 FEET', 'price': '27000.00', 'currency': 'INR'}, {'slno': 3, 'description': 'UPS SCS (India) Pvt Ltd', 'quantity': '20 FEET', 'price': '27000.00', 'currency': 'INR'}, {'slno': 4, 'description': 'UPS SCS (India) Pvt Ltd', 'quantity': '16 Ton', 'price': '19200.00', 'currency': 'INR'}, {'slno': 5, 'description': 'UPS SCS (India) Pvt Ltd', 'quantity': '16 Ton', 'price': '19200.00', 'currency': 'INR'}, {'slno': 6, 'description': 'UPS SCS (India) Pvt Ltd', 'quantity': '16 Ton', 'price': '19200.00', 'currency': 'INR'}, {'slno': 7, 'description': 'UPS SCS (India) Pvt Ltd', 'quantity': '16 Ton', 'price': '19200.00', 'currency': 'INR'}, {'slno': 8, 'description': 'UPS SCS (India) Pvt Ltd', 'quantity': '16 Ton', 'price': '19200.00', 'currency': 'INR'}], 'total_tax': {'CGST': 0.0, 'SGST': 0.0, 'IGST': 0.0}, 'total_charge': 0.0, 'total_discount': 0.0, 'total_amount': 177000.0, 'amount_paid': 0.0, 'amount_due': 0.0, 'page_no': 1}, {'invoice_number': '20212500', 'invoice_date': '3/23/2021 12:00:00 AM', 'seller_details': {'name': 'TRANSITECH PRIVATE LIMITED', 'gst_no': '33AAT5065J1Z7', 'pan_no': 'Not Available', 'address': 'Plot No. 18-20, Ambit Park Road, Ambattur Industrial Estate, Ambattur Industrial Estate, Chennai 600 058', 'phone_number': '+91-7550015666,8939601566', 'email': 'support@freightx.in'}, 'buyer_details': {'name': 'Ms. SHARADAA CERAMICS PRIVATE LIMITED DP', 'gst_no': 'Not Available', 'pan_no': 'Not Available', 'address': '39 4B 5B KAKKALUR INDUSTRIAL ESTATE KAKKALUR THIRUVALLUR-602003', 'phone_number': 'Not Available', 'email': 'Not Available'}, 'items': [{'slno': 1, 'description': 'SB NO 96083 40/24.03.21 CNTR NO. FCIU4299693', 'quantity': 'Not Available', 'price': 'Not Available', 'currency': 'INR'}], 'total_tax': {'CGST': 0.0, 'SGST': 0.0, 'IGST': 0.0}, 'total_charge': 0.0, 'total_discount': 0.0, 'total_amount': 0.0, 'amount_paid': 0.0, 'amount_due': 0.0, 'page_no': 2}, {'invoice_number': '20-21/2500', 'invoice_date': '23-3-2021', 'seller_details': {'name': 'TRANSITECH PRIVATE LIMITED', 'gst_no': '33AAFCT5065J1Z7', 'pan_no': 'Not Available', 'address': 'Plot No. 18-20, Ambit Park Road, Ambattur Industrial Estate, Chennai 600 058', 'phone_number': '7550015666 / 8939601566', 'email': 'support@freightx.in'}, 'buyer_details': {'name': 'UPS SCS (INDIA) PVT LTD', 'gst_no': '33AAACU2488B1ZN', 'pan_no': 'Not Available', 'address': 'No. 3/26, 10th Avenue, Ashok Nagar, Chennai', 'phone_number': 'Not Available', 'email': 'Not Available'}, 'items': [{'slno': 1, 'description': 'Your Freight Driver was Sathish', 'quantity': '1', 'price': '17000.00', 'currency': 'INR'}, {'slno': 2, 'description': 'Total Distance 500 Km', 'quantity': '1', 'price': '10000.00', 'currency': 'INR'}, {'slno': 3, 'description': 'Waiting Minutes 0 mins', 'quantity': '1', 'price': '0.00', 'currency': 'INR'}, {'slno': 4, 'description': 'Total Trip Time 0', 'quantity': '1', 'price': '0.00', 'currency': 'INR'}, {'slno': 5, 'description': 'Distance Fare', 'quantity': '1', 'price': '17000.00', 'currency': 'INR'}, {'slno': 6, 'description': 'Halting Charges', 'quantity': '1', 'price': '10000.00', 'currency': 'INR'}, {'slno': 7, 'description': 'Loading Charges', 'quantity': '1', 'price': '0.00', 'currency': 'INR'}, {'slno': 8, 'description': 'Unloading Charges', 'quantity': '1', 'price': '0.00', 'currency': 'INR'}, {'slno': 9, 'description': 'Extra Delivery Charges', 'quantity': '1', 'price': '0.00', 'currency': 'INR'}, {'slno': 10, 'description': 'Additional Point Charges', 'quantity': '1', 'price': '0.00', 'currency': 'INR'}], 'total_tax': {'CGST': 0.0, 'SGST': 0.0, 'IGST': 0.0}, 'total_charge': 0.0, 'total_discount': 0.0, 'total_amount': 27000.0, 'amount_paid': 27000.0, 'amount_due': 0.0, 'page_no': 3}, {'invoice_number': '20-21/2498', 'invoice_date': '23-3-2021', 'seller_details': {'name': 'TRANSITECH PRIVATE LIMITED', 'gst_no': '33AAFCT5065J1Z7', 'pan_no': 'Not Available', 'address': 'Plot No. 18-20, Ambit Park Road, Ambattur Industrial Estate, Chennai 600 058', 'phone_number': '7550015666 / 8939601566', 'email': 'support@freightx.in'}, 'buyer_details': {'name': 'UPS SCS (INDIA) PVT LTD', 'gst_no': '33AAACU2488B1ZN', 'pan_no': 'Not Available', 'address': 'UPS SCS (INDIA) PVT LTD, No. 3/26, 10th Avenue, Ashok Nagar, Chennai', 'phone_number': 'Not Available', 'email': 'Not Available'}, 'items': [{'slno': 1, 'description': 'Your Freight Driver was', 'quantity': '1.000', 'price': '17000.00', 'currency': 'INR'}, {'slno': 2, 'description': 'Total Distance', 'quantity': '1.000', 'price': '10000.00', 'currency': 'INR'}, {'slno': 3, 'description': 'Waiting Minutes', 'quantity': '1.000', 'price': '0.00', 'currency': 'INR'}, {'slno': 4, 'description': 'Total Trip Time', 'quantity': '1.000', 'price': '0.00', 'currency': 'INR'}, {'slno': 5, 'description': 'S Manikandan', 'quantity': '1.000', 'price': '0.00', 'currency': 'INR'}, {'slno': 6, 'description': '500 Km', 'quantity': '1.000', 'price': '0.00', 'currency': 'INR'}, {'slno': 7, 'description': '0 mins', 'quantity': '1.000', 'price': '0.00', 'currency': 'INR'}, {'slno': 8, 'description': '0', 'quantity': '1.000', 'price': '0.00', 'currency': 'INR'}, {'slno': 9, 'description': 'Distance Fare', 'quantity': '1.000', 'price': '0.00', 'currency': 'INR'}, {'slno': 10, 'description': 'Halting Charges', 'quantity': '1.000', 'price': '0.00', 'currency': 'INR'}, {'slno': 11, 'description': 'Loading Charges', 'quantity': '1.000', 'price': '0.00', 'currency': 'INR'}, {'slno': 12, 'description': 'Unloading Charges', 'quantity': '1.000', 'price': '0.00', 'currency': 'INR'}, {'slno': 13, 'description': 'Extra Delivery Charges', 'quantity': '1.000', 'price': '0.00', 'currency': 'INR'}, {'slno': 14, 'description': 'Additional Point Charges', 'quantity': '1.000', 'price': '0.00', 'currency': 'INR'}], 'total_tax': {'CGST': 0.0, 'SGST': 0.0, 'IGST': 0.0}, 'total_charge': 0.0, 'total_discount': 0.0, 'total_amount': 27000.0, 'amount_paid': 27000.0, 'amount_due': 0.0, 'page_no': 4}, {'invoice_number': '20212498', 'invoice_date': '3/23/2021', 'seller_details': {'name': 'TRANSITECH PRIVATE LIMITED', 'gst_no': '33AAT5065J1Z7', 'pan_no': 'Not Available', 'address': 'Plot No. 18-20, Ambit Park Road, Ambattur Industrial Estate, Ambattur Industrial Estate, Chennai 600 058', 'phone_number': '+91-7550015666, 8939601566', 'email': 'support@freightx.in'}, 'buyer_details': {'name': 'Ms. SHARADAA CERAMICS PRIVATE LIMITED DP', 'gst_no': 'Not Available', 'pan_no': 'Not Available', 'address': '39 4B 5B KAKKALUR INDUSTRIAL ESTATE KAKKALUR THIRUVALLUR-602003', 'phone_number': 'Not Available', 'email': 'Not Available'}, 'items': [{'slno': 1, 'description': 'Actual Kgs', 'quantity': '1', 'price': 'Rs P', 'currency': 'INR'}, {'slno': 2, 'description': 'Rate', 'quantity': '1', 'price': 'Rs P', 'currency': 'INR'}, {'slno': 3, 'description': 'Charged Kgs', 'quantity': '1', 'price': 'Rs P', 'currency': 'INR'}, {'slno': 4, 'description': 'Hamali', 'quantity': '1', 'price': 'Rs P', 'currency': 'INR'}, {'slno': 5, 'description': 'Door Collection', 'quantity': '1', 'price': 'Rs P', 'currency': 'INR'}, {'slno': 6, 'description': 'Pvt. Marking', 'quantity': '1', 'price': 'Rs P', 'currency': 'INR'}, {'slno': 7, 'description': 'Door Delivery', 'quantity': '1', 'price': 'Rs P', 'currency': 'INR'}, {'slno': 8, 'description': 'Surcharge', 'quantity': '1', 'price': 'Rs P', 'currency': 'INR'}, {'slno': 9, 'description': 'St. Charge', 'quantity': '1', 'price': 'Rs P', 'currency': 'INR'}], 'total_tax': {'CGST': 0.0, 'SGST': 0.0, 'IGST': 0.0}, 'total_charge': 0.0, 'total_discount': 0.0, 'total_amount': 0.0, 'amount_paid': 0.0, 'amount_due': 0.0, 'page_no': 5}, {'invoice_number': '20-21/2499', 'invoice_date': '23-3-2021', 'seller_details': {'name': 'TRANSITECH PRIVATE LIMITED', 'gst_no': '33AAFCT5065J1Z7', 'pan_no': 'NOT_AVAILABLE', 'address': 'Plot No. 18-20, Ambit Park Road, Ambattur Industrial Estate, Chennai 600 058', 'phone_number': '7550015666 / 8939601566', 'email': 'support@freightx.in'}, 'buyer_details': {'name': 'UPS SCS (INDIA) PVT LTD', 'gst_no': '33AAACU2488B1ZN', 'pan_no': 'NOT_AVAILABLE', 'address': 'No. 3/26, 10th Avenue, Ashok Nagar, Chennai', 'phone_number': 'Not Available', 'email': 'Not Available'}, 'items': [{'slno': 1, 'description': 'Your Freight Driver was Sundar', 'quantity': '1.000', 'price': '17000.00', 'currency': 'INR'}, {'slno': 2, 'description': 'Distance Fare', 'quantity': '1.000', 'price': '10000.00', 'currency': 'INR'}, {'slno': 3, 'description': 'Halting Charges', 'quantity': '1.000', 'price': '0.00', 'currency': 'INR'}, {'slno': 4, 'description': 'Loading Charges', 'quantity': '1.000', 'price': '0.00', 'currency': 'INR'}, {'slno': 5, 'description': 'Unloading Charges', 'quantity': '1.000', 'price': '0.00', 'currency': 'INR'}, {'slno': 6, 'description': 'Extra Delivery Charges', 'quantity': '1.000', 'price': '0.00', 'currency': 'INR'}, {'slno': 7, 'description': 'Additional Point Charges', 'quantity': '1.000', 'price': '0.00', 'currency': 'INR'}], 'total_tax': {'CGST': 0.0, 'SGST': 0.0, 'IGST': 0.0}, 'total_charge': 0.0, 'total_discount': 0.0, 'total_amount': 27000.0, 'amount_paid': 0.0, 'amount_due': 27000.0, 'page_no': 6}, {'invoice_number': '20212499', 'invoice_date': '3/23/2021 12:00:00 AM', 'seller_details': {'name': 'TRANSITECH PRIVATE LIMITED', 'gst_no': '33AAFC75065J1Z7', 'pan_no': 'Not Available', 'address': 'Plot No. 18-20, Ambit Park Road, Ambattur Industrial Estate, Ambattur Industrial Estate, Chennai 600 058', 'phone_number': '+91-7550015666,8939601566', 'email': 'support@freightx.in'}, 'buyer_details': {'name': 'Ms. SHARADAA CERAMICS PRIVATE LIMITED DP', 'gst_no': 'Not Available', 'pan_no': 'Not Available', 'address': '39 4B 5B KAKKALUR INDUSTRIAL ESTATE KAKKALUR THIRUVALLUR-602003', 'phone_number': 'Not Available', 'email': 'Not Available'}, 'items': [{'slno': 1, 'description': 'SB NO. 9608540 /24.03.21 CNTR NO. FCIU3397714', 'quantity': '1', 'price': 'Not Available', 'currency': 'INR'}], 'total_tax': {'CGST': 0.0, 'SGST': 0.0, 'IGST': 0.0}, 'total_charge': 0.0, 'total_discount': 0.0, 'total_amount': 0.0, 'amount_paid': 0.0, 'amount_due': 0.0, 'page_no': 7}, {'invoice_number': 'Not Available', 'invoice_date': 'Not Available', 'seller_details': {'name': 'Not Available', 'gst_no': 'Not Available', 'pan_no': 'Not Available', 'address': 'Not Available', 'phone_number': 'Not Available', 'email': 'Not Available'}, 'buyer_details': {'name': 'Not Available', 'gst_no': 'Not Available', 'pan_no': 'Not Available', 'address': 'Not Available', 'phone_number': 'Not Available', 'email': 'Not Available'}, 'items': [], 'total_tax': {'CGST': 0.0, 'SGST': 0.0, 'IGST': 0.0}, 'total_charge': 0.0, 'total_discount': 0.0, 'total_amount': 0.0, 'amount_paid': 0.0, 'amount_due': 0.0, 'page_no': 8}, {'invoice_number': '5512 4954 4247', 'invoice_date': '16/03/2021', 'seller_details': {'name': 'SALZER EXPORTS LIMITED', 'gst_no': '33AADCS0675B1ZT', 'pan_no': 'Not Available', 'address': 'TAMIL NADU-641047', 'phone_number': 'Not Available', 'email': 'Not Available'}, 'buyer_details': {'name': 'TRANSITECH PRIVATE LIMITED', 'gst_no': '33AAFCT5065.H27', 'pan_no': 'Not Available', 'address': 'Not Available', 'phone_number': 'Not Available', 'email': 'Not Available'}, 'items': [{'slno': 1, 'description': 'CONDUIT TUBING(+1)', 'quantity': '1', 'price': '58968', 'currency': 'INR'}], 'total_tax': {'CGST': 0.0, 'SGST': 0.0, 'IGST': 0.0}, 'total_charge': 0.0, 'total_discount': 0.0, 'total_amount': 58968.0, 'amount_paid': 0.0, 'amount_due': 0.0, 'page_no': 9}, {'invoice_number': 'NO_INVOICE', 'invoice_date': 'Not Available', 'seller_details': {'name': 'Not Available', 'gst_no': 'Not Available', 'pan_no': 'Not Available', 'address': 'Not Available', 'phone_number': 'Not Available', 'email': 'Not Available'}, 'buyer_details': {'name': 'Not Available', 'gst_no': 'Not Available', 'pan_no': 'Not Available', 'address': 'Not Available', 'phone_number': 'Not Available', 'email': 'Not Available'}, 'items': [], 'total_tax': {'CGST': 0.0, 'SGST': 0.0, 'IGST': 0.0}, 'total_charge': 0.0, 'total_discount': 0.0, 'total_amount': 0.0, 'amount_paid': 0.0, 'amount_due': 0.0, 'page_no': 10}, {'invoice_number': 'NO_INVOICE', 'invoice_date': 'Not Available', 'seller_details': {'name': 'Not Available', 'gst_no': 'Not Available', 'pan_no': 'Not Available', 'address': 'Not Available', 'phone_number': 'Not Available', 'email': 'Not Available'}, 'buyer_details': {'name': 'Not Available', 'gst_no': 'Not Available', 'pan_no': 'Not Available', 'address': 'Not Available', 'phone_number': 'Not Available', 'email': 'Not Available'}, 'items': [], 'total_tax': {'CGST': 0.0, 'SGST': 0.0, 'IGST': 0.0}, 'total_charge': 0.0, 'total_discount': 0.0, 'total_amount': 0.0, 'amount_paid': 0.0, 'amount_due': 0.0, 'page_no': 11}, {'invoice_number': 'NO_INVOICE', 'invoice_date': 'Not Available', 'seller_details': {'name': 'Not Available', 'gst_no': 'Not Available', 'pan_no': 'Not Available', 'address': 'Not Available', 'phone_number': 'Not Available', 'email': 'Not Available'}, 'buyer_details': {'name': 'Not Available', 'gst_no': 'Not Available', 'pan_no': 'Not Available', 'address': 'Not Available', 'phone_number': 'Not Available', 'email': 'Not Available'}, 'items': [], 'total_tax': {'CGST': 0.0, 'SGST': 0.0, 'IGST': 0.0}, 'total_charge': 0.0, 'total_discount': 0.0, 'total_amount': 0.0, 'amount_paid': 0.0, 'amount_due': 0.0, 'page_no': 12}, {'invoice_number': '0016084', 'invoice_date': '25/03/2021', 'seller_details': {'name': 'SRI JAYARAM COMPUTER WEIGH BRIDGE', 'gst_no': 'Not Available', 'pan_no': 'Not Available', 'address': 'No. 27 to 30-A, M.T.H. Road, Kakkalur, Thiruvallur - 602 003.', 'phone_number': '2766 6529', 'email': 'Not Available'}, 'buyer_details': {'name': 'Not Available', 'gst_no': 'Not Available', 'pan_no': 'Not Available', 'address': 'Not Available', 'phone_number': 'Not Available', 'email': 'Not Available'}, 'items': [{'slno': 1, 'description': 'CONTAINER', 'quantity': '42', 'price': '120.00', 'currency': 'INR'}], 'total_tax': {'CGST': 0.0, 'SGST': 0.0, 'IGST': 0.0}, 'total_charge': 0.0, 'total_discount': 0.0, 'total_amount': 39470.0, 'amount_paid': 0.0, 'amount_due': 0.0, 'page_no': 13}, {'invoice_number': 'NO_INVOICE', 'invoice_date': 'Not Available', 'seller_details': {'name': 'Not Available', 'gst_no': 'Not Available', 'pan_no': 'Not Available', 'address': 'Not Available', 'phone_number': 'Not Available', 'email': 'Not Available'}, 'buyer_details': {'name': 'Not Available', 'gst_no': 'Not Available', 'pan_no': 'Not Available', 'address': 'Not Available', 'phone_number': 'Not Available', 'email': 'Not Available'}, 'items': [], 'total_tax': {'CGST': 0.0, 'SGST': 0.0, 'IGST': 0.0}, 'total_charge': 0.0, 'total_discount': 0.0, 'total_amount': 0.0, 'amount_paid': 0.0, 'amount_due': 0.0, 'page_no': 14}, {'invoice_number': 'NOT_AVAILABLE', 'invoice_date': '27/03/2021', 'seller_details': {'name': 'SHARADAA CERAMICS PRIVATE LIMITED', 'gst_no': 'Not Available', 'pan_no': 'Not Available', 'address': 'D-39, 4B KAKALOOR INDUSTRIAL ESTATE UNIT A BANKWELL BUSINESS PARK BANKWELL ROAD KAKALOOR THIRUVELLORE DISTRICT, TAMIL NADU', 'phone_number': 'Not Available', 'email': 'Not Available'}, 'buyer_details': {'name': 'SCOTT BROTHERS ENTERPRISES LTD', 'gst_no': 'Not Available', 'pan_no': 'Not Available', 'address': 'BANKWELL ROAD WINSBRIDGE HUDDERSFIELD, HD3 4LU UNITED KINGDOM', 'phone_number': 'Not Available', 'email': 'Not Available'}, 'items': [{'slno': 1, 'description': 'Not Available', 'quantity': '60', 'price': '7898.00', 'currency': 'INR'}], 'total_tax': {'CGST': 0.0, 'SGST': 0.0, 'IGST': 0.0}, 'total_charge': 0.0, 'total_discount': 0.0, 'total_amount': 7898.0, 'amount_paid': 0.0, 'amount_due': 0.0, 'page_no': 15}, {'invoice_number': '2596932.00', 'invoice_date': '27/03/2021', 'seller_details': {'name': 'SCOTT BROTHERS ENTERPRISES LTD', 'gst_no': 'Not Available', 'pan_no': 'Not Available', 'address': 'UNIT A BANKWELL BUSINESS PARK, BANKWELL ROAD, MELNSBRIDGE MIDDERSFIELD, HD3 4LU UNITED KINGDOM', 'phone_number': 'Not Available', 'email': 'Not Available'}, 'buyer_details': {'name': 'SHARJAH CERAMICS PRIVATE LIMITED', 'gst_no': 'Not Available', 'pan_no': 'Not Available', 'address': '0-39, 4B KAKALDOR INDUSTRIAL ESTATE', 'phone_number': 'Not Available', 'email': 'Not Available'}, 'items': [{'slno': 1, 'description': 'LOOSE PKTS', 'quantity': '60.000', 'price': '78000.000', 'currency': 'INR'}], 'total_tax': {'CGST': 0.0, 'SGST': 0.0, 'IGST': 2596932.0}, 'total_charge': 0.0, 'total_discount': 0.0, 'total_amount': 2596932.0, 'amount_paid': 0.0, 'amount_due': 0.0, 'page_no': 16}, {'invoice_number': 'NOT_AVAILABLE', 'invoice_date': '15/03/2021', 'seller_details': {'name': 'SHARADAA CERAMICS PRIVATE LIMITED', 'gst_no': 'Not Available', 'pan_no': 'Not Available', 'address': 'Not Available', 'phone_number': 'Not Available', 'email': 'Not Available'}, 'buyer_details': {'name': 'SCOTT BROTHERS ENTERPRISES LTD', 'gst_no': 'Not Available', 'pan_no': 'Not Available', 'address': 'Not Available', 'phone_number': 'Not Available', 'email': 'Not Available'}, 'items': [{'slno': 1, 'description': 'RITC CD', 'quantity': '1.00', 'price': '71.600', 'currency': 'INR'}], 'total_tax': {'CGST': 0.0, 'SGST': 0.0, 'IGST': 71.6}, 'total_charge': 0.0, 'total_discount': 0.0, 'total_amount': 71.6, 'amount_paid': 0.0, 'amount_due': 0.0, 'page_no': 17}, {'invoice_number': '9608540', 'invoice_date': '27/03/2021', 'seller_details': {'name': 'AALCMIORSECHBBI TRANSOREIN LOGISTICS SERVICES PVT LTD', 'gst_no': 'Not Available', 'pan_no': 'Not Available', 'address': 'CHENNAI - 600001', 'phone_number': 'Not Available', 'email': 'Not Available'}, 'buyer_details': {'name': 'Not Available', 'gst_no': 'Not Available', 'pan_no': 'Not Available', 'address': 'Not Available', 'phone_number': 'Not Available', 'email': 'Not Available'}, 'items': [{'slno': 1, 'description': 'RITC', 'quantity': '1.00', 'price': '78000.00', 'currency': 'INR'}, {'slno': 2, 'description': 'SINGLE WINDOW INFO TYPE DETAILS', 'quantity': '1.00', 'price': '12985.00', 'currency': 'INR'}], 'total_tax': {'CGST': 0.0, 'SGST': 0.0, 'IGST': 0.0}, 'total_charge': 0.0, 'total_discount': 0.0, 'total_amount': 33760.0, 'amount_paid': 0.0, 'amount_due': 0.0, 'page_no': 18}, {'invoice_number': 'NO_INVOICE', 'invoice_date': 'Not Available', 'seller_details': {'name': 'Not Available', 'gst_no': 'Not Available', 'pan_no': 'Not Available', 'address': 'Not Available', 'phone_number': 'Not Available', 'email': 'Not Available'}, 'buyer_details': {'name': 'Not Available', 'gst_no': 'Not Available', 'pan_no': 'Not Available', 'address': 'Not Available', 'phone_number': 'Not Available', 'email': 'Not Available'}, 'items': [], 'total_tax': {'CGST': 0.0, 'SGST': 0.0, 'IGST': 0.0}, 'total_charge': 0.0, 'total_discount': 0.0, 'total_amount': 0.0, 'amount_paid': 0.0, 'amount_due': 0.0, 'page_no': 19}, {'invoice_number': 'NO_INVOICE', 'invoice_date': 'Not Available', 'seller_details': {'name': 'Not Available', 'gst_no': 'Not Available', 'pan_no': 'Not Available', 'address': 'Not Available', 'phone_number': 'Not Available', 'email': 'Not Available'}, 'buyer_details': {'name': 'Not Available', 'gst_no': 'Not Available', 'pan_no': 'Not Available', 'address': 'Not Available', 'phone_number': 'Not Available', 'email': 'Not Available'}, 'items': [], 'total_tax': {'CGST': 0.0, 'SGST': 0.0, 'IGST': 0.0}, 'total_charge': 0.0, 'total_discount': 0.0, 'total_amount': 0.0, 'amount_paid': 0.0, 'amount_due': 0.0, 'page_no': 20}, {'invoice_number': '20-21/2389', 'invoice_date': '16-3-2021', 'seller_details': {'name': 'TRANSITECH PRIVATE LIMITED', 'gst_no': '33AAFCT5065J1Z7', 'pan_no': 'Not Available', 'address': 'Plot No. 18-20, Ambit Park Road, Ambattur Industrial Estate, Chennai 600 058', 'phone_number': '7550015666 / 8939601566', 'email': 'support@freightx.in'}, 'buyer_details': {'name': 'UPS SCS (INDIA) PVT LTD', 'gst_no': '33AAACU2488B1ZN', 'pan_no': 'Not Available', 'address': 'No. 3/26, 10th Avenue, Ashok Nagar, Chennai', 'phone_number': 'Not Available', 'email': 'Not Available'}, 'items': [{'slno': 1, 'description': 'Your Freight Driver was', 'quantity': '1.000', 'price': '19200.00', 'currency': 'INR'}], 'total_tax': {'CGST': 0.0, 'SGST': 0.0, 'IGST': 0.0}, 'total_charge': 0.0, 'total_discount': 0.0, 'total_amount': 19200.0, 'amount_paid': 19200.0, 'amount_due': 0.0, 'page_no': 21}, {'invoice_number': 'NOT_AVAILABLE', 'invoice_date': '3/16/2021 12:00:00 AM', 'seller_details': {'name': 'TRANSITECH PRIVATE LIMITED', 'gst_no': '33AAFC75065J1Z7', 'pan_no': 'Not Available', 'address': 'Plot No. 18-20, Ambit Park Road, Ambattur Industrial Estate, Ambattur Industrial Estate, Chennai 600 058', 'phone_number': '+91-7550015666,8939601566', 'email': 'support@freightx.in'}, 'buyer_details': {'name': 'Salzer Exports Ltd', 'gst_no': 'Not Available', 'pan_no': 'Not Available', 'address': '9/175A, Railway Feeder Road, Perianaickenpalayam, Coimbatore 641020', 'phone_number': 'Not Available', 'email': 'Not Available'}, 'items': [{'slno': 1, 'description': 'Actual Kgs', 'quantity': '1', 'price': 'Not Available', 'currency': 'INR'}, {'slno': 2, 'description': 'Paid', 'quantity': '1', 'price': 'Not Available', 'currency': 'INR'}, {'slno': 3, 'description': 'To Pay', 'quantity': '1', 'price': 'Not Available', 'currency': 'INR'}, {'slno': 4, 'description': 'Rate', 'quantity': '1', 'price': 'Not Available', 'currency': 'INR'}, {'slno': 5, 'description': 'Rs', 'quantity': '1', 'price': 'Not Available', 'currency': 'INR'}, {'slno': 6, 'description': 'P', 'quantity': '1', 'price': 'Not Available', 'currency': 'INR'}, {'slno': 7, 'description': 'Charged Kgs', 'quantity': '1', 'price': 'Not Available', 'currency': 'INR'}, {'slno': 8, 'description': 'Hamali', 'quantity': '1', 'price': 'Not Available', 'currency': 'INR'}, {'slno': 9, 'description': 'TO BE BILLED', 'quantity': '1', 'price': 'Not Available', 'currency': 'INR'}, {'slno': 10, 'description': 'Door Collection', 'quantity': '1', 'price': 'Not Available', 'currency': 'INR'}, {'slno': 11, 'description': 'Pvt.Marking', 'quantity': '1', 'price': 'Not Available', 'currency': 'INR'}, {'slno': 12, 'description': 'Door Delivery', 'quantity': '1', 'price': 'Not Available', 'currency': 'INR'}, {'slno': 13, 'description': 'Surcharge', 'quantity': '1', 'price': 'Not Available', 'currency': 'INR'}, {'slno': 14, 'description': 'St.Charge', 'quantity': '1', 'price': 'Not Available', 'currency': 'INR'}, {'slno': 15, 'description': 'Total Rs.', 'quantity': '1', 'price': 'Not Available', 'currency': 'INR'}], 'total_tax': {'CGST': 0.0, 'SGST': 0.0, 'IGST': 0.0}, 'total_charge': 0.0, 'total_discount': 0.0, 'total_amount': 0.0, 'amount_paid': 0.0, 'amount_due': 0.0, 'page_no': 22}, {'invoice_number': '20-21/2390', 'invoice_date': '16-3-2021', 'seller_details': {'name': 'TRANSITECH PRIVATE LIMITED', 'gst_no': '33AAFCT5065J1Z7', 'pan_no': 'Not Available', 'address': 'Plot No. 18-20, Ambit Park Road, Ambattur Industrial Estate, Chennai 600 058', 'phone_number': '7550015666 / 8939601566', 'email': 'support@freightx.in'}, 'buyer_details': {'name': 'UPS SCS (INDIA) PVT LTD', 'gst_no': '33AAACU2488B1ZN', 'pan_no': 'Not Available', 'address': 'No. 3/26, 10th Avenue, Ashok Nagar, Chennai', 'phone_number': 'Not Available', 'email': 'Not Available'}, 'items': [{'slno': 1, 'description': 'Your Freight Driver was', 'quantity': '1', 'price': '19200.00', 'currency': 'INR'}, {'slno': 2, 'description': 'Total Distance', 'quantity': '1', 'price': '0.00', 'currency': 'INR'}, {'slno': 3, 'description': 'Waiting Minutes', 'quantity': '1', 'price': '0.00', 'currency': 'INR'}, {'slno': 4, 'description': 'Total Trip Time', 'quantity': '1', 'price': '0.00', 'currency': 'INR'}], 'total_tax': {'CGST': 0.0, 'SGST': 0.0, 'IGST': 0.0}, 'total_charge': 19200.0, 'total_discount': 0.0, 'total_amount': 19200.0, 'amount_paid': 19200.0, 'amount_due': 0.0, 'page_no': 23}, {'invoice_number': '20212390', 'invoice_date': '3/16/2021', 'seller_details': {'name': 'TRANSITECH PRIVATE LIMITED', 'gst_no': '33AAFCT5065J1Z7', 'pan_no': 'Not Available', 'address': 'Plot No. 18-20, Ambit Park Road, Ambattur Industrial Estate, Ambattur Industrial Estate, Chennai 600 058', 'phone_number': '+91-7550015666,8939601566', 'email': 'support@freightxin'}, 'buyer_details': {'name': 'SALZAR EXPORTS LTD', 'gst_no': 'Not Available', 'pan_no': 'Not Available', 'address': '9/175A, Railway Feeder Road, Perianaickenpalayam, Coimbatore 641020', 'phone_number': 'Not Available', 'email': 'Not Available'}, 'items': [{'slno': 1, 'description': 'SB NO 9418939 / 17.03.21', 'quantity': 'Not Available', 'price': 'Not Available', 'currency': 'INR'}], 'total_tax': {'CGST': 0.0, 'SGST': 0.0, 'IGST': 0.0}, 'total_charge': 0.0, 'total_discount': 0.0, 'total_amount': 0.0, 'amount_paid': 0.0, 'amount_due': 0.0, 'page_no': 24}, {'invoice_number': '20-21/2391', 'invoice_date': '16-3-2021', 'seller_details': {'name': 'TRANSITECH PRIVATE LIMITED', 'gst_no': '33AAFCT5065J1Z7', 'pan_no': 'Not Available', 'address': 'Plot No. 18-20, Ambit Park Road, Ambattur Industrial Estate, Chennai 600 058', 'phone_number': '7550015666 / 8939601566', 'email': 'support@freightx.in'}, 'buyer_details': {'name': 'UPS SCS (INDIA) PVT LTD', 'gst_no': '33AAACU2488B1ZN', 'pan_no': 'Not Available', 'address': 'No. 3/26, 10th Avenue, Ashok Nagar, Chennai', 'phone_number': 'Not Available', 'email': 'Not Available'}, 'items': [{'slno': 1, 'description': 'Your Freight Driver was', 'quantity': '1', 'price': '19200.00', 'currency': 'INR'}], 'total_tax': {'CGST': 0.0, 'SGST': 0.0, 'IGST': 0.0}, 'total_charge': 19200.0, 'total_discount': 0.0, 'total_amount': 19200.0, 'amount_paid': 19200.0, 'amount_due': 0.0, 'page_no': 25}, {'invoice_number': '20212391', 'invoice_date': '3/16/2021', 'seller_details': {'name': 'TRANSITECH PRIVATE LIMITED', 'gst_no': 'Not Available', 'pan_no': 'Not Available', 'address': 'Plot No. 18-20, Ambit Park Road, Ambattur Industrial Estate, Ambattur Industrial Estate, Chennai 600 058', 'phone_number': '+91-7550015666,8939601566', 'email': 'support@freightx.in'}, 'buyer_details': {'name': 'SALZER EXPORTS LTD', 'gst_no': 'Not Available', 'pan_no': 'Not Available', 'address': '9/175A, Railway Feeder Road, Perianaickenpalayam, Coimbatore 641 020', 'phone_number': 'Not Available', 'email': 'Not Available'}, 'items': [{'slno': 1, 'description': 'Actual Kgs', 'quantity': '1', 'price': 'Rs P', 'currency': 'INR'}, {'slno': 2, 'description': 'Rate', 'quantity': '1', 'price': 'Rs P', 'currency': 'INR'}, {'slno': 3, 'description': 'Charged Kgs', 'quantity': '1', 'price': 'Rs P', 'currency': 'INR'}, {'slno': 4, 'description': 'Hamali', 'quantity': '1', 'price': 'Rs P', 'currency': 'INR'}, {'slno': 5, 'description': 'Door Collection', 'quantity': '1', 'price': 'Rs P', 'currency': 'INR'}, {'slno': 6, 'description': 'Pvt. Marking', 'quantity': '1', 'price': 'Rs P', 'currency': 'INR'}, {'slno': 7, 'description': 'Door Delivery', 'quantity': '1', 'price': 'Rs P', 'currency': 'INR'}, {'slno': 8, 'description': 'Surcharge', 'quantity': '1', 'price': 'Rs P', 'currency': 'INR'}, {'slno': 9, 'description': 'St.Charge', 'quantity': '1', 'price': 'Rs P', 'currency': 'INR'}], 'total_tax': {'CGST': 0.0, 'SGST': 0.0, 'IGST': 0.0}, 'total_charge': 0.0, 'total_discount': 0.0, 'total_amount': 0.0, 'amount_paid': 0.0, 'amount_due': 0.0, 'page_no': 26}, {'invoice_number': '20-21/2393', 'invoice_date': '16-3-2021', 'seller_details': {'name': 'TRANSITECH PRIVATE LIMITED', 'gst_no': '33AAFCT5065J1Z7', 'pan_no': 'Not Available', 'address': 'Plot No. 18-20, Ambit Park Road, Ambattur Industrial Estate, Chennai 600 058', 'phone_number': '7550015666 / 8939601566', 'email': 'support@freightx.in'}, 'buyer_details': {'name': 'UPS SCS (INDIA) PVT LTD', 'gst_no': '33AAACU2488B1ZN', 'pan_no': 'Not Available', 'address': 'No. 3/26, 10th Avenue, Ashok Nagar, Chennai', 'phone_number': 'Not Available', 'email': 'Not Available'}, 'items': [{'slno': 1, 'description': 'Your Freightx Driver was Vadivel', 'quantity': '500 Km', 'price': '19200.00', 'currency': 'INR'}], 'total_tax': {'CGST': 0.0, 'SGST': 0.0, 'IGST': 0.0}, 'total_charge': 0.0, 'total_discount': 0.0, 'total_amount': 19200.0, 'amount_paid': 19200.0, 'amount_due': 0.0, 'page_no': 27}, {'invoice_number': '20212393', 'invoice_date': '3/16/2021 12:00:00 AM', 'seller_details': {'name': 'TRANSITECH PRIVATE LIMITED', 'gst_no': '33AAFCT5065J1Z7', 'pan_no': 'Not Available', 'address': 'Plot No. 18-20, Ambit Park Road, Ambattur Industrial Estate, Ambattur Industrial Estate, Chennai 600 058', 'phone_number': '+91-7550015666,8939601566', 'email': 'support@freightx.in'}, 'buyer_details': {'name': 'SALZAR Exports Ltd', 'gst_no': 'Not Available', 'pan_no': 'Not Available', 'address': '9/175A, Railway Feeder Road, Perianaickenpalayam, Coimbatore 641020', 'phone_number': 'Not Available', 'email': 'Not Available'}, 'items': [{'slno': 1, 'description': 'SB 9418938 / 17.03.21', 'quantity': '1', 'price': 'Not Available', 'currency': 'INR'}], 'total_tax': {'CGST': 0.0, 'SGST': 0.0, 'IGST': 0.0}, 'total_charge': 0.0, 'total_discount': 0.0, 'total_amount': 0.0, 'amount_paid': 0.0, 'amount_due': 0.0, 'page_no': 28}, {'invoice_number': '20-21/2394', 'invoice_date': '16-3-2021', 'seller_details': {'name': 'TRANSITECH PRIVATE LIMITED', 'gst_no': '33AAFCT5065J1Z7', 'pan_no': 'NOT_AVAILABLE', 'address': 'Plot No. 18-20, Ambit Park Road, Ambattur Industrial Estate, Chennai 600 058', 'phone_number': '7550015666 / 8939601566', 'email': 'support@freightx.in'}, 'buyer_details': {'name': 'UPS SCS (INDIA) PVT LTD', 'gst_no': '33AAACU2488B1ZN', 'pan_no': 'NOT_AVAILABLE', 'address': 'UPS SCS (INDIA) PVT LTD, No. 3/26, 10th Avenue, Ashok Nagar, Chennai', 'phone_number': 'Not Available', 'email': 'Not Available'}, 'items': [{'slno': 1, 'description': 'Your Freightx Driver was', 'quantity': '1.000', 'price': '19200.00', 'currency': 'INR'}], 'total_tax': {'CGST': 0.0, 'SGST': 0.0, 'IGST': 0.0}, 'total_charge': 0.0, 'total_discount': 0.0, 'total_amount': 19200.0, 'amount_paid': 19200.0, 'amount_due': 0.0, 'page_no': 29}, {'invoice_number': 'NOT_AVAILABLE', 'invoice_date': '3/16/2021 12:00:00 AM', 'seller_details': {'name': 'TRANSITECH PRIVATE LIMITED', 'gst_no': '33AAFCT5065J1Z7', 'pan_no': 'Not Available', 'address': 'Plot No. 18-20, Ambit Park Road, Ambattur Industrial Estate, Ambattur Industrial Estate, Chennai 600 058', 'phone_number': '+91-7550015666,8939601566', 'email': 'support@freightxin'}, 'buyer_details': {'name': 'SALZER EXPORTS LTD', 'gst_no': 'Not Available', 'pan_no': 'Not Available', 'address': '9/175A, Railway Feeder Road, Periannaickenpalayam, Coimbatore 641020', 'phone_number': 'Not Available', 'email': 'Not Available'}, 'items': [{'slno': 1, 'description': 'SB 9418926/17.03.21', 'quantity': 'Not Available', 'price': 'Not Available', 'currency': 'INR'}], 'total_tax': {'CGST': 0.0, 'SGST': 0.0, 'IGST': 0.0}, 'total_charge': 0.0, 'total_discount': 0.0, 'total_amount': 0.0, 'amount_paid': 0.0, 'amount_due': 0.0, 'page_no': 30}, {'invoice_number': 'T003337/2021', 'invoice_date': '15-03-2021', 'seller_details': {'name': 'TRANSORION LOGISTICS SERVICES PVT LTD', 'gst_no': '33AACSO675B1ZT', 'pan_no': 'Not Available', 'address': 'CONTROL CONCEPTS CORPORATION DBA C3 CONTROLS P.O BOX NO 496 BEAVER PENNSYLVANIA USA 15009 EIN 25-1309760 US (UNITED STATES OF AMERICA)', 'phone_number': 'Not Available', 'email': 'Not Available'}, 'buyer_details': {'name': 'CONTROL CONCEPTS CORPORATION DBA C3 CONTROLS', 'gst_no': 'Not Available', 'pan_no': 'Not Available', 'address': '658 STATE AVE VANDORT PA 15009 USA', 'phone_number': 'Not Available', 'email': 'Not Available'}, 'items': [{'slno': 1, 'description': 'As per Tariff : 150', 'quantity': '6.61', 'price': '991.50000', 'currency': 'INR'}, {'slno': 2, 'description': 'As per Tariff : 250', 'quantity': '6.91', 'price': '124725.50000', 'currency': 'INR'}, {'slno': 3, 'description': 'As per Tariff : 29.8628', 'quantity': '0.54', 'price': '27.00000', 'currency': 'INR'}, {'slno': 4, 'description': 'As per Tariff : 50', 'quantity': '6.19', 'price': '309.38000', 'currency': 'INR'}, {'slno': 5, 'description': 'As per Tariff : 50', 'quantity': '6.44', 'price': '232.00000', 'currency': 'INR'}, {'slno': 6, 'description': 'As per Tariff : 50', 'quantity': '6.91', 'price': '345.50000', 'currency': 'INR'}], 'total_tax': {'CGST': 0.0, 'SGST': 0.0, 'IGST': 0.0}, 'total_charge': 0.0, 'total_discount': 0.0, 'total_amount': 3602.0, 'amount_paid': 0.0, 'amount_due': 0.0, 'page_no': 31}, {'invoice_number': 'T00332/2021', 'invoice_date': '15-03-2021', 'seller_details': {'name': 'CONTROL CONCEPTS CORPORATION DBA C3 CONTROLS', 'gst_no': 'Not Available', 'pan_no': 'Not Available', 'address': '656 STATE AVE, EXPORT, PA 15009 USA', 'phone_number': 'Not Available', 'email': 'Not Available'}, 'buyer_details': {'name': 'TRANSORION LOGISTICS SERVICES PVT LTD', 'gst_no': 'Not Available', 'pan_no': 'Not Available', 'address': 'TAMIL NADU', 'phone_number': 'Not Available', 'email': 'Not Available'}, 'items': [{'slno': 1, 'description': 'PER 1 NOS', 'quantity': '4.46', 'price': '2230.00000', 'currency': 'INR'}, {'slno': 2, 'description': 'PER 1 NOS', 'quantity': '4.67', 'price': '934.00000', 'currency': 'INR'}, {'slno': 3, 'description': 'PER 1 NOS', 'quantity': '5.65', 'price': '565.00000', 'currency': 'INR'}, {'slno': 4, 'description': 'PER 1 NOS', 'quantity': '0.9', 'price': '225.00000', 'currency': 'INR'}, {'slno': 5, 'description': 'PER 1 NOS', 'quantity': '5.65', 'price': '565.00000', 'currency': 'INR'}, {'slno': 6, 'description': 'PER 1 NOS', 'quantity': '4.09', 'price': '818.00000', 'currency': 'INR'}], 'total_tax': {'CGST': 0.0, 'SGST': 0.0, 'IGST': 0.0}, 'total_charge': 0.0, 'total_discount': 0.0, 'total_amount': 8167.0, 'amount_paid': 0.0, 'amount_due': 0.0, 'page_no': 32}, {'invoice_number': '200334/2021', 'invoice_date': '15-03-2021', 'seller_details': {'name': 'TRANSORION LOGISTICS SERVICES PVT LTD', 'gst_no': '33AADC3067SB1ZT', 'pan_no': 'Not Available', 'address': 'P.O BOX NO 496, BEAVER PENNSYLVANIA, USA 15009 RIN 25-1309760, US (UNITED STATES OF AMERICA)', 'phone_number': 'Not Available', 'email': 'Not Available'}, 'buyer_details': {'name': 'CONTROL CONCEPTS CORPORATION DBA C3 CONTROLS', 'gst_no': 'Not Available', 'pan_no': 'Not Available', 'address': 'VANPORT PA 15009 USA', 'phone_number': 'Not Available', 'email': 'Not Available'}, 'items': [{'slno': 1, 'description': 'CONTROL CONCEPTS CORPORATION DBA C3 CONTROLS 658 STATE AVE VANPORT PA 15009 USA', 'quantity': '120', 'price': '72.2', 'currency': 'INR'}], 'total_tax': {'CGST': 0.0, 'SGST': 0.0, 'IGST': 0.0}, 'total_charge': 0.0, 'total_discount': 0.0, 'total_amount': 2629.0, 'amount_paid': 0.0, 'amount_due': 0.0, 'page_no': 33}, {'invoice_number': '15-03-2021', 'invoice_date': '15-03-2021', 'seller_details': {'name': 'TRANSORION LOGISTICS SERVICES PVT LTD', 'gst_no': '33AADCS0675B1ZT', 'pan_no': 'Not Available', 'address': 'CONTROL CONCEPTS CORPORATION DBA C3 CONTROLS P O BOX NO 496 BEAVER PENNSYLVANIA USA 15009', 'phone_number': 'Not Available', 'email': 'Not Available'}, 'buyer_details': {'name': 'CONTROL CONCEPTS CORPORATION DBA C3 CONTROLS 658 STATE AVE VANPORT PA 15009 USA', 'gst_no': 'Not Available', 'pan_no': 'Not Available', 'address': 'Not Available', 'phone_number': 'Not Available', 'email': 'Not Available'}, 'items': [{'slno': 1, 'description': 'Not Available', 'quantity': 'Not Available', 'price': 'Not Available', 'currency': 'INR'}], 'total_tax': {'CGST': 0.0, 'SGST': 0.0, 'IGST': 0.0}, 'total_charge': 0.0, 'total_discount': 0.0, 'total_amount': 43861.5, 'amount_paid': 0.0, 'amount_due': 0.0, 'page_no': 34}, {'invoice_number': 'T003397/2021', 'invoice_date': '15-03-2021', 'seller_details': {'name': 'TRANSORION LOGISTICS SERVICES PVT LTD', 'gst_no': '33AADCSD675B1ZT', 'pan_no': 'Not Available', 'address': '9/117SA RAILWAY FEEDER ROAD, PERIANA ICKENPALAYAM COIMBATORE, TAMIL NADU-641020', 'phone_number': 'Not Available', 'email': 'Not Available'}, 'buyer_details': {'name': 'C3 CONTROLS CORPORATION DBA', 'gst_no': 'Not Available', 'pan_no': 'Not Available', 'address': '658 STATE AVE EXPORT, PA 15009 USA', 'phone_number': 'Not Available', 'email': 'Not Available'}, 'items': [{'slno': 1, 'description': 'BRAND:C3 GR-1/5 TO 5/5 OVER LOAD RELAY (NOS) BOL RELAY1 CLASS 10 RANGE 11-17A (320-B1017)', 'quantity': '8', 'price': '67.92000', 'currency': 'INR'}, {'slno': 2, 'description': 'BRAND:C3 GR-1/5 TO 5/5 OVER LOAD RELAY (NOS) BOL RELAY1 CLASS 10 RANGE 2.8-4A (320-B1D40)', 'quantity': '2', 'price': '16.98000', 'currency': 'INR'}, {'slno': 3, 'description': 'BRAND:C3 GR-1/5 TO 5/5 OVER LOAD RELAY (NOS) BOL RELAY1 CLASS10 RANGE 2.8-4A (320-B1D40)', 'quantity': '25', 'price': '212.25000', 'currency': 'INR'}, {'slno': 4, 'description': 'BRAND:C3 GR-1/5 TO 5/5 OVER LOAD RELAY (NOS) BOL RELAY1 CLASS 10 RANGE 5.6-8A (320-B1D80)', 'quantity': '25', 'price': '212.25000', 'currency': 'INR'}, {'slno': 5, 'description': 'BRAND:C3 GR-1/5 TO 5/5 OVER LOAD RELAY (NOS) BOL RELAY 1 CLASS 10 RANGE 5.6-8A (320-B1D80)', 'quantity': '5', 'price': '42.45000', 'currency': 'INR'}, {'slno': 6, 'description': 'BRAND:C3 GR-1/5 TO 5/5 OVER LOAD RELAY (NOS) BOL RELAY 1 CLASS 10 RANGE 5.6-8A (320-B1D80)', 'quantity': '10', 'price': '28.13', 'currency': 'INR'}, {'slno': 7, 'description': 'BRAND:C3 GR-1/5 TO 5/5 OVER LOAD RELAY (NOS) BOL RELAYS CLASS 10 RANGE 63-80A (320-B5U80)', 'quantity': '17', 'price': '144.33000', 'currency': 'INR'}], 'total_tax': {'CGST': 0.0, 'SGST': 0.0, 'IGST': 0.0}, 'total_charge': 0.0, 'total_discount': 0.0, 'total_amount': 4903.824, 'amount_paid': 0.0, 'amount_due': 0.0, 'page_no': 35}]}\n"
     ]
    }
   ],
   "source": [
    "print(data)"
   ]
  },
  {
   "cell_type": "code",
   "execution_count": 7,
   "id": "6045ba61-bb4c-40ce-96be-2d8796c23aa2",
   "metadata": {},
   "outputs": [
    {
     "data": {
      "text/plain": [
       "35"
      ]
     },
     "execution_count": 7,
     "metadata": {},
     "output_type": "execute_result"
    }
   ],
   "source": [
    "len(data[\"details\"])"
   ]
  },
  {
   "cell_type": "code",
   "execution_count": 18,
   "id": "e9c6d519-b984-43f4-8f7b-4b687e9e720b",
   "metadata": {},
   "outputs": [
    {
     "data": {
      "text/plain": [
       "{'invoice_number': '9608540',\n",
       " 'invoice_date': '27/03/2021',\n",
       " 'seller_details': {'name': 'AALCMIORSECHBBI TRANSOREIN LOGISTICS SERVICES PVT LTD',\n",
       "  'gst_no': 'Not Available',\n",
       "  'pan_no': 'Not Available',\n",
       "  'address': 'CHENNAI - 600001',\n",
       "  'phone_number': 'Not Available',\n",
       "  'email': 'Not Available'},\n",
       " 'buyer_details': {'name': 'Not Available',\n",
       "  'gst_no': 'Not Available',\n",
       "  'pan_no': 'Not Available',\n",
       "  'address': 'Not Available',\n",
       "  'phone_number': 'Not Available',\n",
       "  'email': 'Not Available'},\n",
       " 'items': [{'slno': 1,\n",
       "   'description': 'RITC',\n",
       "   'quantity': '1.00',\n",
       "   'price': '78000.00',\n",
       "   'currency': 'INR'},\n",
       "  {'slno': 2,\n",
       "   'description': 'SINGLE WINDOW INFO TYPE DETAILS',\n",
       "   'quantity': '1.00',\n",
       "   'price': '12985.00',\n",
       "   'currency': 'INR'}],\n",
       " 'total_tax': {'CGST': 0.0, 'SGST': 0.0, 'IGST': 0.0},\n",
       " 'total_charge': 0.0,\n",
       " 'total_discount': 0.0,\n",
       " 'total_amount': 33760.0,\n",
       " 'amount_paid': 0.0,\n",
       " 'amount_due': 0.0,\n",
       " 'page_no': 18}"
      ]
     },
     "execution_count": 18,
     "metadata": {},
     "output_type": "execute_result"
    }
   ],
   "source": [
    "data[\"details\"][17]"
   ]
  },
  {
   "cell_type": "code",
   "execution_count": null,
   "id": "68084b33-300f-4f19-8848-61e47c4c35e2",
   "metadata": {},
   "outputs": [],
   "source": []
  }
 ],
 "metadata": {
  "kernelspec": {
   "display_name": "Python 3 (ipykernel)",
   "language": "python",
   "name": "python3"
  },
  "language_info": {
   "codemirror_mode": {
    "name": "ipython",
    "version": 3
   },
   "file_extension": ".py",
   "mimetype": "text/x-python",
   "name": "python",
   "nbconvert_exporter": "python",
   "pygments_lexer": "ipython3",
   "version": "3.11.9"
  }
 },
 "nbformat": 4,
 "nbformat_minor": 5
}
